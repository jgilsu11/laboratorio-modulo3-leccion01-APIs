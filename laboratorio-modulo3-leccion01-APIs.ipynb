{
 "cells": [
  {
   "cell_type": "markdown",
   "metadata": {},
   "source": [
    "<div style=\"text-align: center;\">\n",
    "  <img src=\"https://github.com/Hack-io-Data/Imagenes/blob/main/01-LogosHackio/logo_naranja@4x.png?raw=true\" alt=\"esquema\" />\n",
    "</div>"
   ]
  },
  {
   "cell_type": "markdown",
   "metadata": {},
   "source": [
    "# Laboratorio API's \n",
    "\n",
    "SetMagic Productions es una empresa especializada en la provisión de servicios integrales para la realización de rodajes cinematográficos y audiovisuales. Nos dedicamos a facilitar tanto el atrezzo necesario para las producciones como los lugares idóneos para llevar a cabo los rodajes, ya sea en entornos al aire libre o en interiores.\n",
    "\n",
    "**Servicios Ofrecidos:**\n",
    "\n",
    "- **Atrezzo Creativo:** Contamos con un extenso catálogo de atrezzo que abarca desde accesorios hasta muebles y objetos temáticos para ambientar cualquier tipo de  escena.\n",
    "\n",
    "- **Locaciones Únicas:** Nuestra empresa ofrece una amplia selección de locaciones, que incluyen desde escenarios naturales como playas, bosques y montañas, hasta espacios interiores como estudios, casas históricas y edificios emblemáticos.\n",
    "\n",
    "- **Servicios de Producción:** Además de proporcionar atrezzo y locaciones, también ofrecemos servicios de producción audiovisual, incluyendo equipos de filmación, personal técnico y servicios de postproducción.\n",
    "\n",
    "**Herramientas y Tecnologías:**\n",
    "\n",
    "Para recopilar información sobre nuevas locaciones y tendencias en atrezzo, utilizamos herramientas de web scraping como Beautiful Soup y Selenium para extraer datos de sitios web relevantes y redes sociales especializadas en cine y producción audiovisual. También integramos APIs de plataformas de alquiler de locaciones y bases de datos de atrezzo para acceder a información actualizada y detallada.\n",
    "\n",
    "**Almacenamiento de Datos:**\n",
    "\n",
    "La información recopilada mediante web scraping y APIs se almacena en una base de datos no relacional MongoDB. Esta base de datos nos permite organizar eficientemente la información sobre locaciones, atrezzo, clientes y proyectos en curso, facilitando su acceso y gestión.\n",
    "\n",
    "**Objetivo:**\n",
    "\n",
    "Nuestro objetivo principal es proporcionar a nuestros clientes una experiencia fluida y personalizada en la búsqueda y selección de locaciones y atrezzo para sus proyectos audiovisuales. Utilizando tecnologías avanzadas y una amplia red de contactos en la industria, nos esforzamos por ofrecer soluciones creativas y de alta calidad que satisfagan las necesidades específicas de cada producción.\n",
    "\n",
    "\n",
    "# Lab: APIs y Obtención de Datos de Localizaciones para Rodajes\n",
    "\n",
    "En este laboratorio aprenderás a utilizar APIs para obtener información sobre localizaciones de rodaje en la Comunidad de Madrid. A lo largo de este ejercicio, implementarás funciones que te permitirán extraer coordenadas, buscar lugares de interés y almacenar la información en un formato que puedas reutilizar.\n",
    "\n",
    "## Objetivo\n",
    "\n",
    "Obtener información geográfica y sobre posibles localizaciones para rodajes en diferentes municipios de la Comunidad de Madrid, utilizando APIs como **Geopy** y **Foursquare**.\n",
    "\n",
    "### Paso 1: Obtener Coordenadas de los Municipios\n",
    "\n",
    "Primero, necesitas obtener las coordenadas geográficas (latitud y longitud) de cada municipio en la Comunidad de Madrid. Para esto, utilizarás la biblioteca **Geopy** y su funcionalidad para geocodificar. La lista de los municipios de la Comunidad de Madrid es:\n",
    "\n",
    "```python\n",
    "lista_municipios = ['acebeda-la', 'ajalvir', 'alameda-del-valle', 'alamo-el', 'alcala-de-henares', 'alcobendas', 'alcorcon', 'aldea-del-fresno', 'algete', 'alpedrete', 'ambite', 'anchuelo', 'aranjuez', 'arganda-del-rey', 'arroyomolinos', 'atazar-el', 'batres', 'becerril-de-la-sierra', 'belmonte-de-tajo', 'berrueco-el', 'berzosa-del-lozoya', 'boadilla-del-monte', 'boalo-el', 'braojos', 'brea-de-tajo', 'brunete', 'buitrago-del-lozoya', 'bustarviejo', 'cabanillas-de-la-sierra', 'cabrera-la', 'cadalso-de-los-vidrios', 'camarma-de-esteruelas', 'campo-real', 'canencia', 'carabana', 'casarrubuelos', 'cenicientos', 'cercedilla', 'cervera-de-buitrago', 'chapineria', 'chinchon', 'ciempozuelos', 'cobena', 'collado-mediano', 'collado-villalba', 'colmenar-del-arroyo', 'colmenar-de-oreja', 'colmenarejo', 'colmenar-viejo', 'corpa', 'coslada', 'cubas-de-la-sagra', 'daganzo-de-arriba', 'escorial-el', 'estremera', 'fresnedillas-de-la-oliva', 'fresno-de-torote', 'fuenlabrada', 'fuente-el-saz-de-jarama', 'fuentiduena-de-tajo', 'galapagar', 'garganta-de-los-montes', 'gargantilla-del-lozoya-y-pinilla-de-buitrago', 'gascones', 'getafe', 'grinon', 'guadalix-de-la-sierra', 'guadarrama', 'hiruela-la', 'horcajo-de-la-sierra-aoslos', 'horcajuelo-de-la-sierra', 'hoyo-de-manzanares', 'humanes-de-madrid', 'leganes', 'loeches', 'lozoya', 'lozoyuela-navas-sieteiglesias', 'madarcos', 'madrid', 'majadahonda', 'manzanares-el-real', 'meco', 'mejorada-del-campo', 'miraflores-de-la-sierra', 'molar-el', 'molinos-los', 'montejo-de-la-sierra', 'moraleja-de-enmedio', 'moralzarzal', 'morata-de-tajuna', 'mostoles', 'navacerrada', 'navalafuente', 'navalagamella', 'navalcarnero', 'navarredonda-y-san-mames', 'navas-del-rey', 'nuevo-baztan', 'olmeda-de-las-fuentes', 'orusco-de-tajuna', 'paracuellos-de-jarama', 'parla', 'patones', 'pedrezuela', 'pelayos-de-la-presa', 'perales-de-tajuna', 'pezuela-de-las-torres', 'pinilla-del-valle', 'pinto', 'pinuecar-gandullas', 'pozuelo-de-alarcon', 'pozuelo-del-rey', 'pradena-del-rincon', 'puebla-de-la-sierra', 'puentes-viejas-manjiron', 'quijorna', 'rascafria', 'reduena', 'ribatejada', 'rivas-vaciamadrid', 'robledillo-de-la-jara', 'robledo-de-chavela', 'robregordo', 'rozas-de-madrid-las', 'rozas-de-puerto-real', 'san-agustin-del-guadalix', 'san-fernando-de-henares', 'san-lorenzo-de-el-escorial', 'san-martin-de-la-vega', 'san-martin-de-valdeiglesias', 'san-sebastian-de-los-reyes', 'santa-maria-de-la-alameda', 'santorcaz', 'santos-de-la-humosa-los', 'serna-del-monte-la', 'serranillos-del-valle', 'sevilla-la-nueva', 'somosierra', 'soto-del-real', 'talamanca-de-jarama', 'tielmes', 'titulcia', 'torrejon-de-ardoz', 'torrejon-de-la-calzada', 'torrejon-de-velasco', 'torrelaguna', 'torrelodones', 'torremocha-de-jarama', 'torres-de-la-alameda', 'tres-cantos', 'valdaracete', 'valdeavero', 'valdelaguna', 'valdemanco', 'valdemaqueda', 'valdemorillo', 'valdemoro', 'valdeolmos-alalpardo', 'valdepielagos', 'valdetorres-de-jarama', 'valdilecha', 'valverde-de-alcala', 'velilla-de-san-antonio', 'vellon-el', 'venturada', 'villaconejos', 'villa-del-prado', 'villalbilla', 'villamanrique-de-tajo', 'villamanta', 'villamantilla', 'villanueva-de-la-canada', 'villanueva-del-pardillo', 'villanueva-de-perales', 'villar-del-olmo', 'villarejo-de-salvanes', 'villaviciosa-de-odon', 'villavieja-del-lozoya', 'zarzalejo']\n",
    "```\n",
    "\n",
    "1. Instalar y configurar la biblioteca de Geopy para realizar la geocodificación.\n",
    "\n",
    "2. Crear una función que reciba una lista de municipios y devuelva un DataFrame con los nombres de los municipios y sus respectivas coordenadas (latitud y longitud).\n",
    "\n",
    "3. Validar los datos obtenidos para verificar si hay municipios sin coordenadas y resolver posibles problemas, como nombres incorrectos o faltantes.\n",
    "\n",
    "\n",
    "### Paso 2: Buscar Localizaciones Relevantes con la API de Foursquare\n",
    "\n",
    "Una vez obtenidas las coordenadas de los municipios, utilizarás la API de Foursquare para buscar servicios que pueden ser importantes en un rodaje (ej: parques, edificios históricos, plazas).\n",
    "\n",
    "En este punto es importante que reflexiones sobre los servicios o establecimientos clave que considerarías relevantes para establecer una empresa de servicios para rodajes. No hay una única respuesta correcta, ya que depende de la estrategia y visión que tengas. Al menos deberás elegir 5 tipos de servicios que puedan influir en la decisión de ubicación. Ejemplos de estos servicios pueden incluir:\n",
    "\n",
    "- Parques o áreas verdes para rodajes exteriores.\n",
    "\n",
    "- Centros comerciales que faciliten acceso a diferentes necesidades logísticas.\n",
    "\n",
    "- Bares o restaurantes para el catering del equipo.\n",
    "\n",
    "- Tiendas especializadas en disfraces o vestuario.\n",
    "\n",
    "- Alquileres de equipos audiovisuales.\n",
    "\n",
    "Es crucial entender que esta selección depende de la naturaleza y enfoque de la empresa. Tal vez para algunos proyectos sea más importante estar cerca de áreas residenciales o lugares con buena conexión de transporte. Otros proyectos podrían priorizar la proximidad a tiendas especializadas o servicios de entretenimiento. Es vuestra decisión! \n",
    "\n",
    "1. Crear una cuenta en [Foursquare](https://location.foursquare.com/developer/) y obtener la API Key necesaria para realizar las solicitudes. Leer la documentación para entender como funciona. \n",
    "\n",
    "2. Definir una función para realizar búsquedas de lugares cercanos a las coordenadas de cada municipio. Esta función debe permitir filtrar los resultados por categoría y distancia.\n",
    "\n",
    "3. Explorar las categorías disponibles en Foursquare y seleccionar aquellas que se ajusten a los servicios clave que decidáis para vuestra estrategia.\n",
    "\n",
    "4. Aplicar la función de búsqueda a cada municipio, recopilando información sobre los lugares relevantes.\n",
    "\n",
    "Recuerda que la elección de categorías es un punto de análisis clave en este ejercicio, ya que la información que obtendréis será fundamental para decidir la ubicación ideal para vuestra empresa. Aseguraos de justificar vuestras decisiones y considerar diferentes perspectivas. Para cada una de los municipios deberás sacar la información de todos los servicios elegidos. \n",
    "\n",
    "### Paso 3: Limpieza de la Información\n",
    "\n",
    "La información obtenida de Foursquare puede incluir muchos detalles innecesarios. Tu objetivo es quedarte únicamente con los campos relevantes para tu análisis (nombre, dirección, coordenadas, tipo de lugar, etc.).\n",
    "\n",
    "\n",
    "1. Explorar la estructura de los datos obtenidos para identificar los campos importantes y limpiar la información.\n",
    "\n",
    "2. Eliminar duplicados y valores nulos para garantizar la consistencia y calidad de los datos.\n",
    "\n",
    "### Paso 4: Almacenamiento de los Datos\n",
    "\n",
    "Una vez que tengas la información limpia y organizada, almacénala en un archivo CSV que puedas reutilizar en futuros análisis.\n"
   ]
  },
  {
   "cell_type": "code",
   "execution_count": 1,
   "metadata": {},
   "outputs": [],
   "source": [
    "import pandas as pd\n",
    "import numpy as np\n",
    "import requests\n",
    "from tqdm import tqdm\n",
    "from time import sleep\n",
    "import os\n",
    "import dotenv\n",
    "dotenv.load_dotenv()\n",
    "\n",
    "\n",
    "from geopy.geocoders import Nominatim\n"
   ]
  },
  {
   "cell_type": "code",
   "execution_count": 2,
   "metadata": {},
   "outputs": [],
   "source": [
    "lista_municipios = ['acebeda-la', 'ajalvir', 'alameda-del-valle', 'alamo-el', 'alcala-de-henares', 'alcobendas', 'alcorcon', 'aldea-del-fresno', 'algete', 'alpedrete', 'ambite', 'anchuelo', 'aranjuez', 'arganda-del-rey', 'arroyomolinos', 'atazar-el', 'batres', 'becerril-de-la-sierra', 'belmonte-de-tajo', 'berrueco-el', 'berzosa-del-lozoya', 'boadilla-del-monte', 'boalo-el', 'braojos', 'brea-de-tajo', 'brunete', 'buitrago-del-lozoya', 'bustarviejo', 'cabanillas-de-la-sierra', 'cabrera-la', 'cadalso-de-los-vidrios', 'camarma-de-esteruelas', 'campo-real', 'canencia', 'carabana', 'casarrubuelos', 'cenicientos', 'cercedilla', 'cervera-de-buitrago', 'chapineria', 'chinchon', 'ciempozuelos', 'cobena', 'collado-mediano', 'collado-villalba', 'colmenar-del-arroyo', 'colmenar-de-oreja', 'colmenarejo', 'colmenar-viejo', 'corpa', 'coslada', 'cubas-de-la-sagra', 'daganzo-de-arriba', 'escorial-el', 'estremera', 'fresnedillas-de-la-oliva', 'fresno-de-torote', 'fuenlabrada', 'fuente-el-saz-de-jarama', 'fuentiduena-de-tajo', 'galapagar', 'garganta-de-los-montes', 'gargantilla-del-lozoya-y-pinilla-de-buitrago', 'gascones', 'getafe', 'grinon', 'guadalix-de-la-sierra', 'guadarrama', 'hiruela-la', 'horcajo-de-la-sierra-aoslos', 'horcajuelo-de-la-sierra', 'hoyo-de-manzanares', 'humanes-de-madrid', 'leganes', 'loeches', 'lozoya', 'lozoyuela-navas-sieteiglesias', 'madarcos', 'madrid', 'majadahonda', 'manzanares-el-real', 'meco', 'mejorada-del-campo', 'miraflores-de-la-sierra', 'molar-el', 'molinos-los', 'montejo-de-la-sierra', 'moraleja-de-enmedio', 'moralzarzal', 'morata-de-tajuna', 'mostoles', 'navacerrada', 'navalafuente', 'navalagamella', 'navalcarnero', 'navarredonda-y-san-mames', 'navas-del-rey', 'nuevo-baztan', 'olmeda-de-las-fuentes', 'orusco-de-tajuna', 'paracuellos-de-jarama', 'parla', 'patones', 'pedrezuela', 'pelayos-de-la-presa', 'perales-de-tajuna', 'pezuela-de-las-torres', 'pinilla-del-valle', 'pinto', 'pinuecar-gandullas', 'pozuelo-de-alarcon', 'pozuelo-del-rey', 'pradena-del-rincon', 'puebla-de-la-sierra', 'puentes-viejas-manjiron', 'quijorna', 'rascafria', 'reduena', 'ribatejada', 'rivas-vaciamadrid', 'robledillo-de-la-jara', 'robledo-de-chavela', 'robregordo', 'rozas-de-madrid-las', 'rozas-de-puerto-real', 'san-agustin-del-guadalix', 'san-fernando-de-henares', 'san-lorenzo-de-el-escorial', 'san-martin-de-la-vega', 'san-martin-de-valdeiglesias', 'san-sebastian-de-los-reyes', 'santa-maria-de-la-alameda', 'santorcaz', 'santos-de-la-humosa-los', 'serna-del-monte-la', 'serranillos-del-valle', 'sevilla-la-nueva', 'somosierra', 'soto-del-real', 'talamanca-de-jarama', 'tielmes', 'titulcia', 'torrejon-de-ardoz', 'torrejon-de-la-calzada', 'torrejon-de-velasco', 'torrelaguna', 'torrelodones', 'torremocha-de-jarama', 'torres-de-la-alameda', 'tres-cantos', 'valdaracete', 'valdeavero', 'valdelaguna', 'valdemanco', 'valdemaqueda', 'valdemorillo', 'valdemoro', 'valdeolmos-alalpardo', 'valdepielagos', 'valdetorres-de-jarama', 'valdilecha', 'valverde-de-alcala', 'velilla-de-san-antonio', 'vellon-el', 'venturada', 'villaconejos', 'villa-del-prado', 'villalbilla', 'villamanrique-de-tajo', 'villamanta', 'villamantilla', 'villanueva-de-la-canada', 'villanueva-del-pardillo', 'villanueva-de-perales', 'villar-del-olmo', 'villarejo-de-salvanes', 'villaviciosa-de-odon', 'villavieja-del-lozoya', 'zarzalejo']"
   ]
  },
  {
   "cell_type": "code",
   "execution_count": 3,
   "metadata": {},
   "outputs": [
    {
     "name": "stdout",
     "output_type": "stream",
     "text": [
      "Alcobendas, Comunidad de Madrid, España\n",
      "(40.5400082, -3.6358494)\n",
      "{'place_id': 285013379, 'licence': 'Data © OpenStreetMap contributors, ODbL 1.0. http://osm.org/copyright', 'osm_type': 'relation', 'osm_id': 345878, 'lat': '40.5400082', 'lon': '-3.6358494', 'class': 'boundary', 'type': 'administrative', 'place_rank': 16, 'importance': 0.5134214038073257, 'addresstype': 'city', 'name': 'Alcobendas', 'display_name': 'Alcobendas, Comunidad de Madrid, España', 'boundingbox': ['40.5011783', '40.5888135', '-3.7009167', '-3.5494995']}\n"
     ]
    }
   ],
   "source": [
    "geolocator = Nominatim(user_agent=\"my_application\") #Primero hice un ejemplo con uno\n",
    "location = geolocator.geocode(\"alcobendas\")\n",
    "print(location.address)\n",
    "print((location.latitude, location.longitude))\n",
    "print(location.raw)"
   ]
  },
  {
   "cell_type": "code",
   "execution_count": 4,
   "metadata": {},
   "outputs": [],
   "source": [
    "def convertir_df(lista_mun):\n",
    "    lista_dic=[]\n",
    "    for municipio in tqdm(lista_mun):\n",
    "        geolocator = Nominatim(user_agent=\"my_application\")\n",
    "        location = geolocator.geocode(municipio)\n",
    "        dicc=location.raw\n",
    "        lista_dic.append(dicc)\n",
    "    df= pd.DataFrame(lista_dic)\n",
    "    return df[[\"name\",\"lat\",\"lon\"]]"
   ]
  },
  {
   "cell_type": "code",
   "execution_count": 7,
   "metadata": {},
   "outputs": [
    {
     "name": "stderr",
     "output_type": "stream",
     "text": [
      "100%|██████████| 179/179 [01:40<00:00,  1.77it/s]\n"
     ]
    }
   ],
   "source": [
    "df_municipios= convertir_df(lista_municipios)\n",
    "# df_municipios.to_csv(\"datos/coordenadas.csv\")"
   ]
  },
  {
   "cell_type": "code",
   "execution_count": 7,
   "metadata": {},
   "outputs": [
    {
     "data": {
      "text/plain": [
       "np.int64(0)"
      ]
     },
     "execution_count": 7,
     "metadata": {},
     "output_type": "execute_result"
    }
   ],
   "source": [
    "df_municipios[\"lon\"].isna().sum()  #No hay nulos\n",
    "df_municipios[\"lat\"].isna().sum()\n",
    "df_municipios[\"name\"].isna().sum()"
   ]
  },
  {
   "cell_type": "code",
   "execution_count": 8,
   "metadata": {},
   "outputs": [
    {
     "name": "stdout",
     "output_type": "stream",
     "text": [
      "<class 'pandas.core.frame.DataFrame'>\n",
      "RangeIndex: 179 entries, 0 to 178\n",
      "Data columns (total 3 columns):\n",
      " #   Column  Non-Null Count  Dtype \n",
      "---  ------  --------------  ----- \n",
      " 0   name    179 non-null    object\n",
      " 1   lat     179 non-null    object\n",
      " 2   lon     179 non-null    object\n",
      "dtypes: object(3)\n",
      "memory usage: 4.3+ KB\n"
     ]
    }
   ],
   "source": [
    "df_municipios.info()"
   ]
  },
  {
   "cell_type": "code",
   "execution_count": 9,
   "metadata": {},
   "outputs": [
    {
     "data": {
      "text/html": [
       "<div>\n",
       "<style scoped>\n",
       "    .dataframe tbody tr th:only-of-type {\n",
       "        vertical-align: middle;\n",
       "    }\n",
       "\n",
       "    .dataframe tbody tr th {\n",
       "        vertical-align: top;\n",
       "    }\n",
       "\n",
       "    .dataframe thead th {\n",
       "        text-align: right;\n",
       "    }\n",
       "</style>\n",
       "<table border=\"1\" class=\"dataframe\">\n",
       "  <thead>\n",
       "    <tr style=\"text-align: right;\">\n",
       "      <th></th>\n",
       "      <th>name</th>\n",
       "      <th>lat</th>\n",
       "      <th>lon</th>\n",
       "    </tr>\n",
       "  </thead>\n",
       "  <tbody>\n",
       "    <tr>\n",
       "      <th>count</th>\n",
       "      <td>179</td>\n",
       "      <td>179</td>\n",
       "      <td>179</td>\n",
       "    </tr>\n",
       "    <tr>\n",
       "      <th>unique</th>\n",
       "      <td>179</td>\n",
       "      <td>179</td>\n",
       "      <td>179</td>\n",
       "    </tr>\n",
       "    <tr>\n",
       "      <th>top</th>\n",
       "      <td>La Acebeda</td>\n",
       "      <td>41.0869583</td>\n",
       "      <td>-3.624399</td>\n",
       "    </tr>\n",
       "    <tr>\n",
       "      <th>freq</th>\n",
       "      <td>1</td>\n",
       "      <td>1</td>\n",
       "      <td>1</td>\n",
       "    </tr>\n",
       "  </tbody>\n",
       "</table>\n",
       "</div>"
      ],
      "text/plain": [
       "              name         lat        lon\n",
       "count          179         179        179\n",
       "unique         179         179        179\n",
       "top     La Acebeda  41.0869583  -3.624399\n",
       "freq             1           1          1"
      ]
     },
     "execution_count": 9,
     "metadata": {},
     "output_type": "execute_result"
    }
   ],
   "source": [
    "df_municipios.describe()"
   ]
  },
  {
   "cell_type": "code",
   "execution_count": 10,
   "metadata": {},
   "outputs": [
    {
     "data": {
      "text/html": [
       "<div>\n",
       "<style scoped>\n",
       "    .dataframe tbody tr th:only-of-type {\n",
       "        vertical-align: middle;\n",
       "    }\n",
       "\n",
       "    .dataframe tbody tr th {\n",
       "        vertical-align: top;\n",
       "    }\n",
       "\n",
       "    .dataframe thead th {\n",
       "        text-align: right;\n",
       "    }\n",
       "</style>\n",
       "<table border=\"1\" class=\"dataframe\">\n",
       "  <thead>\n",
       "    <tr style=\"text-align: right;\">\n",
       "      <th></th>\n",
       "      <th>name</th>\n",
       "      <th>lat</th>\n",
       "      <th>lon</th>\n",
       "    </tr>\n",
       "  </thead>\n",
       "  <tbody>\n",
       "    <tr>\n",
       "      <th>0</th>\n",
       "      <td>La Acebeda</td>\n",
       "      <td>41.0869583</td>\n",
       "      <td>-3.624399</td>\n",
       "    </tr>\n",
       "    <tr>\n",
       "      <th>1</th>\n",
       "      <td>Ajalvir</td>\n",
       "      <td>40.5342302</td>\n",
       "      <td>-3.4807818</td>\n",
       "    </tr>\n",
       "    <tr>\n",
       "      <th>2</th>\n",
       "      <td>Alameda del Valle</td>\n",
       "      <td>40.9177178</td>\n",
       "      <td>-3.8438216</td>\n",
       "    </tr>\n",
       "  </tbody>\n",
       "</table>\n",
       "</div>"
      ],
      "text/plain": [
       "                name         lat         lon\n",
       "0         La Acebeda  41.0869583   -3.624399\n",
       "1            Ajalvir  40.5342302  -3.4807818\n",
       "2  Alameda del Valle  40.9177178  -3.8438216"
      ]
     },
     "execution_count": 10,
     "metadata": {},
     "output_type": "execute_result"
    }
   ],
   "source": [
    "df_municipios.head(3)"
   ]
  },
  {
   "cell_type": "markdown",
   "metadata": {},
   "source": [
    "**Mi intención es ubicar una empresa de rodajes (especializado en series médicas)**\n",
    "- Hospitales\n",
    "- Zonas de almacénes\n",
    "- Edificios residenciaels\n",
    "- Parques\n",
    "- Cafeterías\n",
    "\n",
    "Por ello creo que tener cerca hospitales facilita la adecuación de los actores para poder ver el funcionamiento de uno real. Además, se podría llegar a acuerdos con el hospital no solo del uso de alguna instalación sino también de materiales y vestimentas (Habría que ejecutar un estudio de viabilidad por si la opción de montar sets unicamente fuera más rentable). La zona de almacenes puede ser útil no solo para el almacenaje de material de rodaje como su propio nombre indica sino también puede servir como escenario más industrial e incluso se podría optar por el alquiler o compra de algunos almacenes con el fin de ser sets de grabación.  \n",
    "\n",
    "Los edificios residenciales, parques y cafeterías sirven no solo para su posible uso y disfrute por parte de los trabajadores sino también como garantía de conseguir un entorno realista para los rodajes que se deban desarrollar en esos ámbitos."
   ]
  },
  {
   "cell_type": "code",
   "execution_count": 1,
   "metadata": {},
   "outputs": [
    {
     "ename": "NameError",
     "evalue": "name 'os' is not defined",
     "output_type": "error",
     "traceback": [
      "\u001b[1;31m---------------------------------------------------------------------------\u001b[0m",
      "\u001b[1;31mNameError\u001b[0m                                 Traceback (most recent call last)",
      "Cell \u001b[1;32mIn[1], line 1\u001b[0m\n\u001b[1;32m----> 1\u001b[0m key\u001b[38;5;241m=\u001b[39m \u001b[43mos\u001b[49m\u001b[38;5;241m.\u001b[39mgetenv(\u001b[38;5;124m\"\u001b[39m\u001b[38;5;124mtoken\u001b[39m\u001b[38;5;124m\"\u001b[39m)\n",
      "\u001b[1;31mNameError\u001b[0m: name 'os' is not defined"
     ]
    }
   ],
   "source": [
    "key= os.getenv(\"token\")\n"
   ]
  },
  {
   "cell_type": "code",
   "execution_count": 19,
   "metadata": {},
   "outputs": [
    {
     "data": {
      "text/plain": [
       "0    41.0869583\n",
       "1    40.5342302\n",
       "2    40.9177178\n",
       "3    40.2307296\n",
       "4    40.4818396\n",
       "Name: lat, dtype: object"
      ]
     },
     "execution_count": 19,
     "metadata": {},
     "output_type": "execute_result"
    }
   ],
   "source": [
    "df_municipios[\"lat\"].head()"
   ]
  },
  {
   "cell_type": "markdown",
   "metadata": {},
   "source": [
    "ESTA ES SOBRE LA QUE ESTOY TRABAJANDO"
   ]
  },
  {
   "cell_type": "code",
   "execution_count": 15,
   "metadata": {},
   "outputs": [
    {
     "name": "stderr",
     "output_type": "stream",
     "text": [
      "100%|██████████| 179/179 [01:39<00:00,  1.81it/s]\n"
     ]
    },
    {
     "data": {
      "text/html": [
       "<div>\n",
       "<style scoped>\n",
       "    .dataframe tbody tr th:only-of-type {\n",
       "        vertical-align: middle;\n",
       "    }\n",
       "\n",
       "    .dataframe tbody tr th {\n",
       "        vertical-align: top;\n",
       "    }\n",
       "\n",
       "    .dataframe thead th {\n",
       "        text-align: right;\n",
       "    }\n",
       "</style>\n",
       "<table border=\"1\" class=\"dataframe\">\n",
       "  <thead>\n",
       "    <tr style=\"text-align: right;\">\n",
       "      <th></th>\n",
       "      <th>municipio de La Acebeda</th>\n",
       "      <th>municipio de Ajalvir</th>\n",
       "      <th>municipio de Alameda del Valle</th>\n",
       "      <th>municipio de El Álamo</th>\n",
       "      <th>municipio de Alcalá de Henares</th>\n",
       "      <th>municipio de Alcobendas</th>\n",
       "      <th>municipio de Alcorcón</th>\n",
       "      <th>municipio de Aldea del Fresno</th>\n",
       "      <th>municipio de Algete</th>\n",
       "      <th>municipio de Alpedrete</th>\n",
       "      <th>...</th>\n",
       "      <th>municipio de Villamanrique de Tajo</th>\n",
       "      <th>municipio de Villamanta</th>\n",
       "      <th>municipio de Villamantilla</th>\n",
       "      <th>municipio de Villanueva de la Cañada</th>\n",
       "      <th>municipio de Villanueva del Pardillo</th>\n",
       "      <th>municipio de Villanueva de Perales</th>\n",
       "      <th>municipio de Villar del Olmo</th>\n",
       "      <th>municipio de Villarejo de Salvanés</th>\n",
       "      <th>municipio de Villaviciosa de Odón</th>\n",
       "      <th>municipio de Villavieja del Lozoya</th>\n",
       "    </tr>\n",
       "  </thead>\n",
       "  <tbody>\n",
       "  </tbody>\n",
       "</table>\n",
       "<p>0 rows × 178 columns</p>\n",
       "</div>"
      ],
      "text/plain": [
       "Empty DataFrame\n",
       "Columns: [municipio de La Acebeda, municipio de Ajalvir, municipio de Alameda del Valle, municipio de El Álamo, municipio de Alcalá de Henares, municipio de Alcobendas, municipio de Alcorcón, municipio de Aldea del Fresno, municipio de Algete, municipio de Alpedrete, municipio de Ambite, municipio de Anchuelo, municipio de Aranjuez, municipio de Arganda del Rey, municipio de Arroyomolinos, municipio de El Atazar, municipio de Batres, municipio de Becerril de la Sierra, municipio de Belmonte de Tajo, municipio de El Berrueco, municipio de Berzosa del Lozoya, municipio de Boadilla del Monte, municipio de El Boalo, municipio de Braojos, municipio de Brea de Tajo, municipio de Brunete, municipio de Buitrago del Lozoya, municipio de Bustarviejo, municipio de Cabanillas de la Sierra, municipio de Cabrera Lane, municipio de Cadalso de los Vidrios, municipio de Camarma de Esteruelas, municipio de Campo Real, municipio de Canencia, municipio de Carabaña, municipio de Casarrubuelos, municipio de Cenicientos, municipio de Cercedilla, municipio de Cervera de Buitrago, municipio de Chapinería, municipio de Chinchón, municipio de Ciempozuelos, municipio de Cobeña, municipio de Collado Mediano, municipio de Collado Villalba, municipio de Colmenar del Arroyo, municipio de Colmenar de Oreja, municipio de Colmenarejo, municipio de Colmenar Viejo, municipio de Corpa, municipio de Coslada, municipio de Cubas de la Sagra, municipio de Daganzo de Arriba, municipio de Real Monasterio de San Lorenzo de El Escorial, municipio de Estremera, municipio de Fresnedillas de la Oliva, municipio de Fresno de Torote, municipio de Fuenlabrada, municipio de Fuente el Saz de Jarama, municipio de Fuentidueña de Tajo, municipio de Galapagar, municipio de Garganta de los Montes, municipio de Gargantilla del Lozoya y Pinilla de Buitrago, municipio de Gascones, municipio de Getafe, municipio de Griñón, municipio de Guadalix de la Sierra, municipio de Guadarrama, municipio de La Hiruela, municipio de Horcajo de la Sierra-Aoslos, municipio de Horcajuelo de la Sierra, municipio de Hoyo de Manzanares, municipio de Humanes de Madrid, municipio de Leganes, municipio de Loeches, municipio de Lozoya, municipio de Lozoyuela-Navas-Sieteiglesias, municipio de Madarcos, municipio de Madrid, municipio de Majadahonda, municipio de Manzanares el Real, municipio de Meco, municipio de Mejorada del Campo, municipio de Miraflores de la Sierra, municipio de El Molar, municipio de Molinos Los, municipio de Montejo de la Sierra, municipio de Moraleja de Enmedio, municipio de Moralzarzal, municipio de Morata de Tajuña, municipio de Móstoles, municipio de Navacerrada, municipio de Navalafuente, municipio de Navalagamella, municipio de Navalcarnero, municipio de Navarredonda y San Mamés, municipio de Navas del Rey, municipio de Nuevo Baztán, municipio de Olmeda de las Fuentes, municipio de Orusco de Tajuña, ...]\n",
       "Index: []\n",
       "\n",
       "[0 rows x 178 columns]"
      ]
     },
     "execution_count": 15,
     "metadata": {},
     "output_type": "execute_result"
    }
   ],
   "source": [
    "\n",
    "def buscar_categoria(cod_categoria,radio): \n",
    "        df=pd.DataFrame()\n",
    "        df_municipios= convertir_df(lista_municipios)\n",
    "        for i in range(0, len(df_municipios)-1):   #Aqui igual tengo q meter len de la lista no del data frame\n",
    "            lat= df_municipios[\"lat\"][i]\n",
    "            lon= df_municipios[\"lon\"][i]  #me cogen los valores de las filas ejemplo si 0 pues el primer valor de latitud, de longitud y nombre (q son object)\n",
    "            municipio= df_municipios[\"name\"][i]\n",
    "            urlh = f\"https://api.foursquare.com/v3/places/search?query={cod_categoria}&radius={radio}&ll{lat}2%C{lon}\"\n",
    "            \n",
    "            \n",
    "            headers = {\n",
    "            \"accept\": \"application/json\",\n",
    "            \"Authorization\": key\n",
    "            }\n",
    "            responseh = requests.get(urlh, headers=headers)\n",
    "            responseh= responseh.json()   #Esto creo que me da una lista\n",
    "            df_mun= pd.DataFrame(responseh, columns=[f\"municipio de {municipio}\"])\n",
    "            df=pd.concat([df, df_mun], axis=0)   #esta axis no sé si es 0 o 1\n",
    "        return df\n",
    "\n",
    "buscar_categoria(15013,10000)"
   ]
  },
  {
   "cell_type": "code",
   "execution_count": 13,
   "metadata": {},
   "outputs": [
    {
     "data": {
      "text/plain": [
       "{'results': [],\n",
       " 'context': {'geo_bounds': {'circle': {'center': {'latitude': 40.5458,\n",
       "     'longitude': -3.6443},\n",
       "    'radius': 10000}}}}"
      ]
     },
     "execution_count": 13,
     "metadata": {},
     "output_type": "execute_result"
    }
   ],
   "source": [
    "#Búsqueda de hospitales 15013\n",
    "\n",
    "urlh = \"https://api.foursquare.com/v3/places/search?query=15013&radius=10000\"\n",
    "\n",
    "headers = {\n",
    "    \"accept\": \"application/json\",\n",
    "    \"Authorization\": key\n",
    "}\n",
    "\n",
    "responseh = requests.get(urlh, headers=headers)\n",
    "\n",
    "responseh.json()"
   ]
  },
  {
   "cell_type": "code",
   "execution_count": 14,
   "metadata": {},
   "outputs": [
    {
     "data": {
      "text/plain": [
       "{'results': [],\n",
       " 'context': {'geo_bounds': {'circle': {'center': {'latitude': 40.5458,\n",
       "     'longitude': -3.6443},\n",
       "    'radius': 10000}}}}"
      ]
     },
     "execution_count": 14,
     "metadata": {},
     "output_type": "execute_result"
    }
   ],
   "source": [
    "#Búsqueda de Storage Facility 11165\n",
    "\n",
    "urla = \"https://api.foursquare.com/v3/places/search?query=11165&radius=10000\"\n",
    "\n",
    "headers = {\n",
    "    \"accept\": \"application/json\",\n",
    "    \"Authorization\": key\n",
    "}\n",
    "\n",
    "responsea = requests.get(urla, headers=headers)\n",
    "\n",
    "responsea.json()"
   ]
  },
  {
   "cell_type": "code",
   "execution_count": 15,
   "metadata": {},
   "outputs": [
    {
     "data": {
      "text/plain": [
       "{'results': [],\n",
       " 'context': {'geo_bounds': {'circle': {'center': {'latitude': 40.5458,\n",
       "     'longitude': -3.6443},\n",
       "    'radius': 10000}}}}"
      ]
     },
     "execution_count": 15,
     "metadata": {},
     "output_type": "execute_result"
    }
   ],
   "source": [
    "#Búsqueda de Home (private) 12123\n",
    "\n",
    "urlc = \"https://api.foursquare.com/v3/places/search?query=12123&radius=10000\"\n",
    "\n",
    "headers = {\n",
    "    \"accept\": \"application/json\",\n",
    "    \"Authorization\": key\n",
    "}\n",
    "\n",
    "responsec = requests.get(urlc, headers=headers)\n",
    "\n",
    "responsec.json()"
   ]
  },
  {
   "cell_type": "code",
   "execution_count": 16,
   "metadata": {},
   "outputs": [],
   "source": [
    "#Búsqueda de Urban Park 16039\n",
    "\n",
    "urlp = \"https://api.foursquare.com/v3/places/search?query=16039&radius=10000\"\n",
    "\n",
    "headers = {\n",
    "    \"accept\": \"application/json\",\n",
    "    \"Authorization\": key\n",
    "}\n",
    "\n",
    "responsep = requests.get(urlp, headers=headers)\n",
    "\n",
    "dfresponsep=responsep.json()"
   ]
  },
  {
   "cell_type": "code",
   "execution_count": 17,
   "metadata": {},
   "outputs": [],
   "source": [
    "df_coordenadas= df_municipios[[\"lat\", \"lon\"]]\n",
    "dflat=df_coordenadas[\"lat\"]\n",
    "dflon=df_coordenadas[\"lon\"]\n",
    "list_lat= list(dflat)\n",
    "list_lon= list(dflon)"
   ]
  },
  {
   "cell_type": "code",
   "execution_count": 18,
   "metadata": {},
   "outputs": [
    {
     "data": {
      "text/plain": [
       "{'results': [],\n",
       " 'context': {'geo_bounds': {'circle': {'center': {'latitude': 41.8781,\n",
       "     'longitude': -87.6298},\n",
       "    'radius': 10000}}}}"
      ]
     },
     "execution_count": 18,
     "metadata": {},
     "output_type": "execute_result"
    }
   ],
   "source": [
    "#cafetería 13034\n",
    "urlcaf = \"https://api.foursquare.com/v3/places/search?query=13034&radius=10000&ll=41.8781,-87.6298\"\n",
    "\n",
    "headers = {\n",
    "    \"accept\": \"application/json\",\n",
    "    \"Authorization\": key\n",
    "}\n",
    "\n",
    "responsecaf = requests.get(urlcaf, headers=headers)\n",
    "responsecaf.json()"
   ]
  },
  {
   "cell_type": "markdown",
   "metadata": {},
   "source": [
    "Lo comento porque no lo quiero eliminar para que se vea lo que intenté"
   ]
  },
  {
   "cell_type": "code",
   "execution_count": 19,
   "metadata": {},
   "outputs": [],
   "source": [
    "df_coordenadas= df_municipios[[\"lat\", \"lon\"]]\n",
    "# def crear_df_coordenadas(listalat,listalon):\n",
    "#     lista_dic= []\n",
    "#     for lat in listalat:\n",
    "#         for lon in listalon:\n",
    "#             urlcaf = f\"https://api.foursquare.com/v3/places/search?query=13034&radius=10000&ll={lat},{lon}\"\n",
    "#             responsecaf = requests.get(urlcaf, headers=headers)\n",
    "#             responsecaf.json()\n",
    "#             lista_dic.append(responsecaf)\n",
    "#     return lista_dic\n",
    "# crear_df_coordenadas(list_lat,list_lon)\n",
    "\n"
   ]
  },
  {
   "cell_type": "markdown",
   "metadata": {},
   "source": [
    "*A partir de aquí usé chat porque no era capaz de sacar la función de búsqueda*"
   ]
  },
  {
   "cell_type": "code",
   "execution_count": 20,
   "metadata": {},
   "outputs": [],
   "source": [
    "# print(df_municipios.head())  # Muestra las primeras filas\n",
    "# print(df_municipios[[\"lat\", \"lon\"]].isna().sum())  # Verifica si hay valores nulos en las coordenadas\n",
    "\n",
    "# print(df_municipios.columns)  # Asegúrate de que \"name\" es una columna válida en df_municipios\n",
    "\n",
    "# response = requests.get(url = f\"https://api.foursquare.com/v3/places/search?query=coffe&radius=10000&ll=40.4818396,-3.3644973\", headers=headers)\n",
    "# if response.status_code == 200:\n",
    "#     data = response.json()\n",
    "#     print(data)  # Verifica si la API devuelve resultados\n",
    "# else:\n",
    "#     print(f\"Error en la solicitud: {response.status_code}\")\n",
    "\n",
    "\n",
    "# print(df_municipios.head())\n",
    "# print(df_municipios[[\"lat\", \"lon\", \"name\"]].isna().sum())\n",
    "\n",
    "\n",
    "# response = requests.get(url = f\"https://api.foursquare.com/v3/places/search?query=coffe&radius=10000&ll=40.4818396,-3.3644973\", headers=headers)\n",
    "# if response.status_code == 200:\n",
    "#     print(response.json())  # Verifica el contenido de la respuesta\n",
    "# else:\n",
    "#     print(f\"Error en la solicitud: {response.status_code}\")\n",
    "\n",
    "\n",
    "# for _, row in tqdm(municipios_df.iterrows()):\n",
    "#     lat, lon = row[\"lat\"], row[\"lon\"]\n",
    "#     print(f\"Buscando en: lat={lat}, lon={lon}\")\n",
    "#     url = f\"https://api.foursquare.com/v3/places/search?query={categoria}&radius={radio}&ll={lat},{lon}\"\n",
    "#     response = requests.get(url, headers=headers)\n",
    "#     print(response.json())  # Verifica la respuesta de la API\n"
   ]
  },
  {
   "cell_type": "code",
   "execution_count": 21,
   "metadata": {},
   "outputs": [],
   "source": [
    "# df_municipios = df_municipios[[\"lat\", \"lon\"]]  \n",
    "# # Función para buscar lugares cercanos a las coordenadas de los municipios\n",
    "# def buscar_lugares(categoria, radio, municipios_df, key):\n",
    "#     headers = {\n",
    "#         \"accept\": \"application/json\",        #El accept define que espero una respuesta en json\n",
    "#         \"Authorization\": key\n",
    "#     }\n",
    "    \n",
    "#     resultados = []         # Lista para almacenar resultados de las búsquedas (la info de cada municipio)\n",
    "\n",
    "#     for index, row in tqdm(municipios_df.iterrows()):   #  Recorre cada fila del DataFrame de municipios, obteniendo las coordenadas (lat y lon) de cada municipio. Ver ejemplo 1\n",
    "#         lat, lon = row[\"lat\"], row[\"lon\"]\n",
    "#         print(f\"Buscando en: lat={lat}, lon={lon}\")\n",
    "#         url = f\"https://api.foursquare.com/v3/places/search?query={categoria}&radius={radio}&ll={lat},{lon}\" #Esto si que sabía que tenía que ser algo parecido pero no fui capaz de plasmarlo\n",
    "\n",
    "#         response = requests.get(url, headers=headers)    #Request.get Envía una solicitud GET a la API de Foursquare, usando la URL y los encabezados definidos.\n",
    "        \n",
    "#         if response.status_code == 200:   # Comprueba si la respuesta es exitosa porque 200 es que todo ha ido bien\n",
    "#             data = response.json()               #response.json(): Convierte la respuesta JSON de la API en un objeto de Python (diccionario).\n",
    "#             for place in data.get(\"results\", []):         #results parece ser el nombre de una clave que lleva asociada una lista con hospital, cafetería etc.Además si results está vacío devuelve como valor predeterminado una lista vacía ver Ejemplo 2\n",
    "#                 # Extraer la información relevante\n",
    "#                 nombre = place.get(\"name\")\n",
    "#                 direccion = place.get(\"location\", {}).get(\"formatted_address\")\n",
    "#                 distancia = place.get(\"distance\")\n",
    "#                 categoria = place.get(\"categories\", [{}])[0].get(\"name\")\n",
    "                \n",
    "#                 resultados.append({              #Añade un diccionario a la lista resultados. Este diccionario contiene:El nombre del municipio donde se realizó la búsqueda(row[\"name\"]).El nombre del lugar encontrado, su dirección, la distancia y su categoría.\n",
    "#                     \"municipio\": row[\"name\"],\n",
    "#                     \"nombre_lugar\": nombre,\n",
    "#                     \"direccion\": direccion,\n",
    "#                     \"distancia_m\": distancia,\n",
    "#                     \"categoria\": categoria\n",
    "#                 })\n",
    "    \n",
    "#     df_resultados = pd.DataFrame(resultados) # Se convierten los resultados en un DataFrame\n",
    "#     return df_resultados\n",
    "\n",
    "\n",
    "# df_resultados = buscar_lugares(categoria=\"12123\", radio=10000, municipios_df=df_municipios, key=os.getenv(\"token\"))\n",
    "\n",
    "# # Guardar los resultados en un archivo CSV\n",
    "# # df_resultados.to_csv(\"resultados_busqueda.csv\", index=False)\n",
    "\n",
    "# # Mostrar los primeros resultados\n",
    "# print(df_resultados.head())\n"
   ]
  },
  {
   "cell_type": "code",
   "execution_count": 22,
   "metadata": {},
   "outputs": [
    {
     "data": {
      "text/plain": [
       "Index(['name', 'lat', 'lon'], dtype='object')"
      ]
     },
     "execution_count": 22,
     "metadata": {},
     "output_type": "execute_result"
    }
   ],
   "source": [
    "df_municipios.columns"
   ]
  },
  {
   "cell_type": "code",
   "execution_count": 23,
   "metadata": {},
   "outputs": [],
   "source": [
    "# def buscar_lugares(categoria, radio, municipios_df, key):\n",
    "#     headers = {\n",
    "#         \"accept\": \"application/json\",\n",
    "#         \"Authorization\": key\n",
    "#     }\n",
    "    \n",
    "#     resultados = []\n",
    "\n",
    "#     for _, row in tqdm(municipios_df.iterrows()):  # Eliminamos el 'index' ya que no se utiliza\n",
    "#         lat, lon = row[\"lat\"], row[\"lon\"]\n",
    "\n",
    "#         # Verificar si lat y lon tienen valores válidos\n",
    "#         if pd.isna(lat) or pd.isna(lon):\n",
    "#             print(f\"Coordenadas no válidas para el municipio: {row}\")\n",
    "#             continue\n",
    "\n",
    "#         # Construir la URL\n",
    "#         url = f\"https://api.foursquare.com/v3/places/search?query={categoria}&radius={radio}&ll={lat},{lon}\"\n",
    "\n",
    "#         try:\n",
    "#             response = requests.get(url, headers=headers)\n",
    "\n",
    "#             # Verificar si la respuesta es exitosa\n",
    "#             if response.status_code == 200:\n",
    "#                 data = response.json()\n",
    "\n",
    "#                 # Revisar si 'results' está en los datos\n",
    "#                 if \"results\" in data and len(data[\"results\"]) > 0:\n",
    "#                     for place in data.get(\"results\", []):\n",
    "#                         # Extraer la información relevante\n",
    "#                         nombre = place.get(\"name\", \"Desconocido\")\n",
    "#                         direccion = place.get(\"location\", {}).get(\"formatted_address\", \"Dirección no disponible\")\n",
    "#                         distancia = place.get(\"distance\", \"Desconocida\")\n",
    "#                         categoria = place.get(\"categories\", [{}])[0].get(\"name\", \"Categoría no disponible\")\n",
    "\n",
    "#                         resultados.append({\n",
    "#                             \"municipio\": row.get(\"name\", \"Municipio no disponible\"),\n",
    "#                             \"nombre_lugar\": nombre,\n",
    "#                             \"direccion\": direccion,\n",
    "#                             \"distancia_m\": distancia,\n",
    "#                             \"categoria\": categoria\n",
    "#                         })\n",
    "#                 else:\n",
    "#                     print(f\"No se encontraron resultados para {row.get('name')}.\")\n",
    "#             else:\n",
    "#                 print(f\"Error en la solicitud para {row.get('name')}: {response.status_code}\")\n",
    "\n",
    "#         except requests.exceptions.RequestException as e:\n",
    "#             print(f\"Error de conexión para {row.get('name')}: {e}\")\n",
    "\n",
    "#     # Crear un DataFrame con los resultados\n",
    "#     if resultados:\n",
    "#         df_resultados = pd.DataFrame(resultados)\n",
    "#     else:\n",
    "#         df_resultados = pd.DataFrame(columns=[\"municipio\", \"nombre_lugar\", \"direccion\", \"distancia_m\", \"categoria\"])\n",
    "    \n",
    "#     return df_resultados\n",
    "\n",
    "# df_resultados = buscar_lugares(categoria=\"15013\", radio=10000, municipios_df=df_municipios, key=os.getenv(\"token\"))\n",
    "\n",
    "# # Mostrar los primeros resultados\n",
    "# print(df_resultados.head())\n"
   ]
  },
  {
   "cell_type": "markdown",
   "metadata": {},
   "source": [
    "**Ejemplo 1**  \n",
    "\n",
    "Supongamos que municipios_df tiene las siguientes filas:\n",
    "\n",
    "name\tlat\tlon  \n",
    "alcobendas\t40.5372\t-3.6372  \n",
    "madrid\t40.4168\t-3.7038  \n",
    "Al ejecutar el iterrows():   \n",
    "\n",
    "En la primera iteración:  \n",
    "\n",
    "index será 0 (el índice de la fila).  \n",
    "row será una Serie que contiene:  \n",
    "row[\"name\"] = \"alcobendas\"    \n",
    "row[\"lat\"] = 40.5372  \n",
    "row[\"lon\"] = -3.6372  \n",
    "En la segunda iteración:  \n",
    "\n",
    "index será 1 (el índice de la fila).  \n",
    "row será:  \n",
    "row[\"name\"] = \"madrid\"  \n",
    "row[\"lat\"] = 40.4168  \n",
    "row[\"lon\"] = -3.7038  "
   ]
  },
  {
   "cell_type": "markdown",
   "metadata": {},
   "source": [
    "**Ejemplo 2**  \n",
    "\n",
    "data = {  \n",
    "    \"results\": [  \n",
    "        {\"name\": \"Hospital 1\", \"location\": \"Location A\"},  \n",
    "        {\"name\": \"Hospital 2\", \"location\": \"Location B\"},  \n",
    "        {\"name\": \"Hospital 3\", \"location\": \"Location C\"}  \n",
    "    ]   \n",
    "}  \n",
    "\n"
   ]
  },
  {
   "cell_type": "markdown",
   "metadata": {},
   "source": [
    "**Ejemplo 3**  \n",
    "place = {  \n",
    "    \"name\": \"Hospital 1\",  \n",
    "    \"location\": \"Location A\",  \n",
    "    \"categories\": [  \n",
    "        {\"id\": \"15013\", \"name\": \"Hospital\"}  \n",
    "    ]  \n",
    "}  \n",
    "\n",
    "place.get(\"categories\", [{}]) devolverá:    \n",
    "\n",
    "[  \n",
    "    {\"id\": \"15013\", \"name\": \"Hospital\"}  \n",
    "]  \n",
    "\n"
   ]
  },
  {
   "cell_type": "code",
   "execution_count": 24,
   "metadata": {},
   "outputs": [],
   "source": [
    "\n",
    "\n",
    "# # Filtrar el DataFrame para solo tener lat y lon\n",
    "# df_municipios = df_municipios[[\"lat\", \"lon\"]]\n",
    "\n",
    "# # Función para buscar lugares cercanos a las coordenadas de los municipios\n",
    "# def buscar_lugares(categoria, radio, municipios_df, key):\n",
    "#     headers = {\n",
    "#         \"accept\": \"application/json\",  # Esperamos una respuesta en JSON\n",
    "#         \"Authorization\": key\n",
    "#     }\n",
    "\n",
    "#     resultados = []  # Lista para almacenar resultados de las búsquedas\n",
    "\n",
    "#     for index, row in tqdm(municipios_df.iterrows()):\n",
    "#         lat, lon = row[\"lat\"], row[\"lon\"]\n",
    "#         print(f\"Buscando en: lat={lat}, lon={lon}\")\n",
    "#         url = f\"https://api.foursquare.com/v3/places/search?query={categoria}&radius={radio}&ll={lat},{lon}\"\n",
    "#         response = requests.get(url, headers=headers)\n",
    "\n",
    "#         if response.status_code == 200:\n",
    "#             data = response.json()\n",
    "#             for place in data.get(\"results\", []):\n",
    "#                 # Extraer la información relevante\n",
    "#                 nombre = place.get(\"name\")\n",
    "#                 direccion = place.get(\"location\", {}).get(\"formatted_address\")\n",
    "#                 distancia = place.get(\"distance\")\n",
    "#                 categoria = place.get(\"categories\", [{}])[0].get(\"name\")\n",
    "\n",
    "#                 resultados.append({\n",
    "#                     \"municipio\": row[\"name\"],\n",
    "#                     \"nombre_lugar\": nombre,\n",
    "#                     \"direccion\": direccion,\n",
    "#                     \"distancia_m\": distancia,\n",
    "#                     \"categoria\": categoria\n",
    "#                 })\n",
    "\n",
    "#     df_resultados = pd.DataFrame(resultados)  # Convertir los resultados en un DataFrame\n",
    "#     return df_resultados\n",
    "\n",
    "# df_resultados = buscar_lugares(categoria=\"cafeteria\", radio=9000, municipios_df=df_municipios, key=os.getenv(\"token\"))\n",
    "\n",
    "# # Mostrar los primeros resultados\n",
    "# print(df_resultados.head())\n"
   ]
  },
  {
   "cell_type": "markdown",
   "metadata": {},
   "source": [
    "**SIENTO NO HABERLO HECHO. MAÑANA NO SÉ CÓMO HARÉ EL LABORATORIO SIN ESTO**"
   ]
  },
  {
   "cell_type": "markdown",
   "metadata": {},
   "source": [
    "REVISAR ESTE CÓDIGO PARA Q FUNCIONE"
   ]
  },
  {
   "cell_type": "code",
   "execution_count": 25,
   "metadata": {},
   "outputs": [],
   "source": [
    "Dic_categorias = {'Coffee Shop': 13055, 'Sports Bar ': 16032, 'Gym': 18077, 'Outdoor Gym': 18026, 'Juice Bar': 13059}\n",
    "\n",
    "def lugares_cercanos(df_final,dicc):\n",
    "    resultados = []\n",
    "    radio = 5000\n",
    "    for index,row in df_final.iterrows():\n",
    "        nombre_municipio = row['name'] \n",
    "        latitud = row['lat']\n",
    "        longitud = row['lon']\n",
    "\n",
    "        for categoria, id_categoria in dicc.items():\n",
    "            url = f\"https://api.foursquare.com/v3/places/search?ll={latitud}%2C{longitud}&radius={radio}&categories={id_categoria}\"\n",
    "\n",
    "            headers = {\n",
    "                \"accept\": \"application/json\",\n",
    "                \"Authorization\": key\n",
    "            }\n",
    "            response = requests.get(url, headers=headers)\n",
    "            datos = response.json()\n",
    "\n",
    "            if 'results' in datos:  # Asegúrate de que 'results' esté en la respuesta\n",
    "                for i in datos['results']:\n",
    "                    nombre_lugar = i['name']\n",
    "                    distancia = i['distance']\n",
    "                    if 'id' in i:\n",
    "                        id_lugar = i['id']\n",
    "                    else:\n",
    "                        id_lugar = ''\n",
    "                    resultados.append([nombre_municipio, latitud, longitud, categoria, nombre_lugar, id_categoria, distancia])\n",
    "    columnas = ['Municipio', 'Latitud Municipio', 'Longitud Municipio', 'Categoría', 'Nombre Lugar', 'ID Categoría', 'Distancia']\n",
    "    df_resultados = pd.DataFrame(resultados, columns=columnas)\n",
    "\n",
    "    return df_resultados"
   ]
  }
 ],
 "metadata": {
  "kernelspec": {
   "display_name": "Python 3",
   "language": "python",
   "name": "python3"
  },
  "language_info": {
   "codemirror_mode": {
    "name": "ipython",
    "version": 3
   },
   "file_extension": ".py",
   "mimetype": "text/x-python",
   "name": "python",
   "nbconvert_exporter": "python",
   "pygments_lexer": "ipython3",
   "version": "3.11.9"
  }
 },
 "nbformat": 4,
 "nbformat_minor": 2
}
