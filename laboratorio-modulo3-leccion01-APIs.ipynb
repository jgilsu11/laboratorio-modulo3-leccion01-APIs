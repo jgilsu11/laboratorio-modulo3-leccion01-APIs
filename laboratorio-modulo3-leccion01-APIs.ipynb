{
 "cells": [
  {
   "cell_type": "markdown",
   "metadata": {},
   "source": [
    "<div style=\"text-align: center;\">\n",
    "  <img src=\"https://github.com/Hack-io-Data/Imagenes/blob/main/01-LogosHackio/logo_naranja@4x.png?raw=true\" alt=\"esquema\" />\n",
    "</div>"
   ]
  },
  {
   "cell_type": "markdown",
   "metadata": {},
   "source": [
    "# Laboratorio API's \n",
    "\n",
    "SetMagic Productions es una empresa especializada en la provisión de servicios integrales para la realización de rodajes cinematográficos y audiovisuales. Nos dedicamos a facilitar tanto el atrezzo necesario para las producciones como los lugares idóneos para llevar a cabo los rodajes, ya sea en entornos al aire libre o en interiores.\n",
    "\n",
    "**Servicios Ofrecidos:**\n",
    "\n",
    "- **Atrezzo Creativo:** Contamos con un extenso catálogo de atrezzo que abarca desde accesorios hasta muebles y objetos temáticos para ambientar cualquier tipo de  escena.\n",
    "\n",
    "- **Locaciones Únicas:** Nuestra empresa ofrece una amplia selección de locaciones, que incluyen desde escenarios naturales como playas, bosques y montañas, hasta espacios interiores como estudios, casas históricas y edificios emblemáticos.\n",
    "\n",
    "- **Servicios de Producción:** Además de proporcionar atrezzo y locaciones, también ofrecemos servicios de producción audiovisual, incluyendo equipos de filmación, personal técnico y servicios de postproducción.\n",
    "\n",
    "**Herramientas y Tecnologías:**\n",
    "\n",
    "Para recopilar información sobre nuevas locaciones y tendencias en atrezzo, utilizamos herramientas de web scraping como Beautiful Soup y Selenium para extraer datos de sitios web relevantes y redes sociales especializadas en cine y producción audiovisual. También integramos APIs de plataformas de alquiler de locaciones y bases de datos de atrezzo para acceder a información actualizada y detallada.\n",
    "\n",
    "**Almacenamiento de Datos:**\n",
    "\n",
    "La información recopilada mediante web scraping y APIs se almacena en una base de datos no relacional MongoDB. Esta base de datos nos permite organizar eficientemente la información sobre locaciones, atrezzo, clientes y proyectos en curso, facilitando su acceso y gestión.\n",
    "\n",
    "**Objetivo:**\n",
    "\n",
    "Nuestro objetivo principal es proporcionar a nuestros clientes una experiencia fluida y personalizada en la búsqueda y selección de locaciones y atrezzo para sus proyectos audiovisuales. Utilizando tecnologías avanzadas y una amplia red de contactos en la industria, nos esforzamos por ofrecer soluciones creativas y de alta calidad que satisfagan las necesidades específicas de cada producción.\n",
    "\n",
    "\n",
    "# Lab: APIs y Obtención de Datos de Localizaciones para Rodajes\n",
    "\n",
    "En este laboratorio aprenderás a utilizar APIs para obtener información sobre localizaciones de rodaje en la Comunidad de Madrid. A lo largo de este ejercicio, implementarás funciones que te permitirán extraer coordenadas, buscar lugares de interés y almacenar la información en un formato que puedas reutilizar.\n",
    "\n",
    "## Objetivo\n",
    "\n",
    "Obtener información geográfica y sobre posibles localizaciones para rodajes en diferentes municipios de la Comunidad de Madrid, utilizando APIs como **Geopy** y **Foursquare**.\n",
    "\n",
    "### Paso 1: Obtener Coordenadas de los Municipios\n",
    "\n",
    "Primero, necesitas obtener las coordenadas geográficas (latitud y longitud) de cada municipio en la Comunidad de Madrid. Para esto, utilizarás la biblioteca **Geopy** y su funcionalidad para geocodificar. La lista de los municipios de la Comunidad de Madrid es:\n",
    "\n",
    "```python\n",
    "lista_municipios = ['acebeda-la', 'ajalvir', 'alameda-del-valle', 'alamo-el', 'alcala-de-henares', 'alcobendas', 'alcorcon', 'aldea-del-fresno', 'algete', 'alpedrete', 'ambite', 'anchuelo', 'aranjuez', 'arganda-del-rey', 'arroyomolinos', 'atazar-el', 'batres', 'becerril-de-la-sierra', 'belmonte-de-tajo', 'berrueco-el', 'berzosa-del-lozoya', 'boadilla-del-monte', 'boalo-el', 'braojos', 'brea-de-tajo', 'brunete', 'buitrago-del-lozoya', 'bustarviejo', 'cabanillas-de-la-sierra', 'cabrera-la', 'cadalso-de-los-vidrios', 'camarma-de-esteruelas', 'campo-real', 'canencia', 'carabana', 'casarrubuelos', 'cenicientos', 'cercedilla', 'cervera-de-buitrago', 'chapineria', 'chinchon', 'ciempozuelos', 'cobena', 'collado-mediano', 'collado-villalba', 'colmenar-del-arroyo', 'colmenar-de-oreja', 'colmenarejo', 'colmenar-viejo', 'corpa', 'coslada', 'cubas-de-la-sagra', 'daganzo-de-arriba', 'escorial-el', 'estremera', 'fresnedillas-de-la-oliva', 'fresno-de-torote', 'fuenlabrada', 'fuente-el-saz-de-jarama', 'fuentiduena-de-tajo', 'galapagar', 'garganta-de-los-montes', 'gargantilla-del-lozoya-y-pinilla-de-buitrago', 'gascones', 'getafe', 'grinon', 'guadalix-de-la-sierra', 'guadarrama', 'hiruela-la', 'horcajo-de-la-sierra-aoslos', 'horcajuelo-de-la-sierra', 'hoyo-de-manzanares', 'humanes-de-madrid', 'leganes', 'loeches', 'lozoya', 'lozoyuela-navas-sieteiglesias', 'madarcos', 'madrid', 'majadahonda', 'manzanares-el-real', 'meco', 'mejorada-del-campo', 'miraflores-de-la-sierra', 'molar-el', 'molinos-los', 'montejo-de-la-sierra', 'moraleja-de-enmedio', 'moralzarzal', 'morata-de-tajuna', 'mostoles', 'navacerrada', 'navalafuente', 'navalagamella', 'navalcarnero', 'navarredonda-y-san-mames', 'navas-del-rey', 'nuevo-baztan', 'olmeda-de-las-fuentes', 'orusco-de-tajuna', 'paracuellos-de-jarama', 'parla', 'patones', 'pedrezuela', 'pelayos-de-la-presa', 'perales-de-tajuna', 'pezuela-de-las-torres', 'pinilla-del-valle', 'pinto', 'pinuecar-gandullas', 'pozuelo-de-alarcon', 'pozuelo-del-rey', 'pradena-del-rincon', 'puebla-de-la-sierra', 'puentes-viejas-manjiron', 'quijorna', 'rascafria', 'reduena', 'ribatejada', 'rivas-vaciamadrid', 'robledillo-de-la-jara', 'robledo-de-chavela', 'robregordo', 'rozas-de-madrid-las', 'rozas-de-puerto-real', 'san-agustin-del-guadalix', 'san-fernando-de-henares', 'san-lorenzo-de-el-escorial', 'san-martin-de-la-vega', 'san-martin-de-valdeiglesias', 'san-sebastian-de-los-reyes', 'santa-maria-de-la-alameda', 'santorcaz', 'santos-de-la-humosa-los', 'serna-del-monte-la', 'serranillos-del-valle', 'sevilla-la-nueva', 'somosierra', 'soto-del-real', 'talamanca-de-jarama', 'tielmes', 'titulcia', 'torrejon-de-ardoz', 'torrejon-de-la-calzada', 'torrejon-de-velasco', 'torrelaguna', 'torrelodones', 'torremocha-de-jarama', 'torres-de-la-alameda', 'tres-cantos', 'valdaracete', 'valdeavero', 'valdelaguna', 'valdemanco', 'valdemaqueda', 'valdemorillo', 'valdemoro', 'valdeolmos-alalpardo', 'valdepielagos', 'valdetorres-de-jarama', 'valdilecha', 'valverde-de-alcala', 'velilla-de-san-antonio', 'vellon-el', 'venturada', 'villaconejos', 'villa-del-prado', 'villalbilla', 'villamanrique-de-tajo', 'villamanta', 'villamantilla', 'villanueva-de-la-canada', 'villanueva-del-pardillo', 'villanueva-de-perales', 'villar-del-olmo', 'villarejo-de-salvanes', 'villaviciosa-de-odon', 'villavieja-del-lozoya', 'zarzalejo']\n",
    "```\n",
    "\n",
    "1. Instalar y configurar la biblioteca de Geopy para realizar la geocodificación.\n",
    "\n",
    "2. Crear una función que reciba una lista de municipios y devuelva un DataFrame con los nombres de los municipios y sus respectivas coordenadas (latitud y longitud).\n",
    "\n",
    "3. Validar los datos obtenidos para verificar si hay municipios sin coordenadas y resolver posibles problemas, como nombres incorrectos o faltantes.\n",
    "\n",
    "\n",
    "### Paso 2: Buscar Localizaciones Relevantes con la API de Foursquare\n",
    "\n",
    "Una vez obtenidas las coordenadas de los municipios, utilizarás la API de Foursquare para buscar servicios que pueden ser importantes en un rodaje (ej: parques, edificios históricos, plazas).\n",
    "\n",
    "En este punto es importante que reflexiones sobre los servicios o establecimientos clave que considerarías relevantes para establecer una empresa de servicios para rodajes. No hay una única respuesta correcta, ya que depende de la estrategia y visión que tengas. Al menos deberás elegir 5 tipos de servicios que puedan influir en la decisión de ubicación. Ejemplos de estos servicios pueden incluir:\n",
    "\n",
    "- Parques o áreas verdes para rodajes exteriores.\n",
    "\n",
    "- Centros comerciales que faciliten acceso a diferentes necesidades logísticas.\n",
    "\n",
    "- Bares o restaurantes para el catering del equipo.\n",
    "\n",
    "- Tiendas especializadas en disfraces o vestuario.\n",
    "\n",
    "- Alquileres de equipos audiovisuales.\n",
    "\n",
    "Es crucial entender que esta selección depende de la naturaleza y enfoque de la empresa. Tal vez para algunos proyectos sea más importante estar cerca de áreas residenciales o lugares con buena conexión de transporte. Otros proyectos podrían priorizar la proximidad a tiendas especializadas o servicios de entretenimiento. Es vuestra decisión! \n",
    "\n",
    "1. Crear una cuenta en [Foursquare](https://location.foursquare.com/developer/) y obtener la API Key necesaria para realizar las solicitudes. Leer la documentación para entender como funciona. \n",
    "\n",
    "2. Definir una función para realizar búsquedas de lugares cercanos a las coordenadas de cada municipio. Esta función debe permitir filtrar los resultados por categoría y distancia.\n",
    "\n",
    "3. Explorar las categorías disponibles en Foursquare y seleccionar aquellas que se ajusten a los servicios clave que decidáis para vuestra estrategia.\n",
    "\n",
    "4. Aplicar la función de búsqueda a cada municipio, recopilando información sobre los lugares relevantes.\n",
    "\n",
    "Recuerda que la elección de categorías es un punto de análisis clave en este ejercicio, ya que la información que obtendréis será fundamental para decidir la ubicación ideal para vuestra empresa. Aseguraos de justificar vuestras decisiones y considerar diferentes perspectivas. Para cada una de los municipios deberás sacar la información de todos los servicios elegidos. \n",
    "\n",
    "### Paso 3: Limpieza de la Información\n",
    "\n",
    "La información obtenida de Foursquare puede incluir muchos detalles innecesarios. Tu objetivo es quedarte únicamente con los campos relevantes para tu análisis (nombre, dirección, coordenadas, tipo de lugar, etc.).\n",
    "\n",
    "\n",
    "1. Explorar la estructura de los datos obtenidos para identificar los campos importantes y limpiar la información.\n",
    "\n",
    "2. Eliminar duplicados y valores nulos para garantizar la consistencia y calidad de los datos.\n",
    "\n",
    "### Paso 4: Almacenamiento de los Datos\n",
    "\n",
    "Una vez que tengas la información limpia y organizada, almacénala en un archivo CSV que puedas reutilizar en futuros análisis.\n"
   ]
  },
  {
   "cell_type": "code",
   "execution_count": 2,
   "metadata": {},
   "outputs": [],
   "source": [
    "import pandas as pd\n",
    "import numpy as np\n",
    "import requests\n",
    "from tqdm import tqdm\n",
    "from time import sleep\n",
    "import os\n",
    "import dotenv\n",
    "dotenv.load_dotenv()\n",
    "\n",
    "\n",
    "from geopy.geocoders import Nominatim\n"
   ]
  },
  {
   "cell_type": "code",
   "execution_count": 3,
   "metadata": {},
   "outputs": [],
   "source": [
    "lista_municipios = ['acebeda-la', 'ajalvir', 'alameda-del-valle', 'alamo-el', 'alcala-de-henares', 'alcobendas', 'alcorcon', 'aldea-del-fresno', 'algete', 'alpedrete', 'ambite', 'anchuelo', 'aranjuez', 'arganda-del-rey', 'arroyomolinos', 'atazar-el', 'batres', 'becerril-de-la-sierra', 'belmonte-de-tajo', 'berrueco-el', 'berzosa-del-lozoya', 'boadilla-del-monte', 'boalo-el', 'braojos', 'brea-de-tajo', 'brunete', 'buitrago-del-lozoya', 'bustarviejo', 'cabanillas-de-la-sierra', 'cabrera-la', 'cadalso-de-los-vidrios', 'camarma-de-esteruelas', 'campo-real', 'canencia', 'carabana', 'casarrubuelos', 'cenicientos', 'cercedilla', 'cervera-de-buitrago', 'chapineria', 'chinchon', 'ciempozuelos', 'cobena', 'collado-mediano', 'collado-villalba', 'colmenar-del-arroyo', 'colmenar-de-oreja', 'colmenarejo', 'colmenar-viejo', 'corpa', 'coslada', 'cubas-de-la-sagra', 'daganzo-de-arriba', 'escorial-el', 'estremera', 'fresnedillas-de-la-oliva', 'fresno-de-torote', 'fuenlabrada', 'fuente-el-saz-de-jarama', 'fuentiduena-de-tajo', 'galapagar', 'garganta-de-los-montes', 'gargantilla-del-lozoya-y-pinilla-de-buitrago', 'gascones', 'getafe', 'grinon', 'guadalix-de-la-sierra', 'guadarrama', 'hiruela-la', 'horcajo-de-la-sierra-aoslos', 'horcajuelo-de-la-sierra', 'hoyo-de-manzanares', 'humanes-de-madrid', 'leganes', 'loeches', 'lozoya', 'lozoyuela-navas-sieteiglesias', 'madarcos', 'madrid', 'majadahonda', 'manzanares-el-real', 'meco', 'mejorada-del-campo', 'miraflores-de-la-sierra', 'molar-el', 'molinos-los', 'montejo-de-la-sierra', 'moraleja-de-enmedio', 'moralzarzal', 'morata-de-tajuna', 'mostoles', 'navacerrada', 'navalafuente', 'navalagamella', 'navalcarnero', 'navarredonda-y-san-mames', 'navas-del-rey', 'nuevo-baztan', 'olmeda-de-las-fuentes', 'orusco-de-tajuna', 'paracuellos-de-jarama', 'parla', 'patones', 'pedrezuela', 'pelayos-de-la-presa', 'perales-de-tajuna', 'pezuela-de-las-torres', 'pinilla-del-valle', 'pinto', 'pinuecar-gandullas', 'pozuelo-de-alarcon', 'pozuelo-del-rey', 'pradena-del-rincon', 'puebla-de-la-sierra', 'puentes-viejas-manjiron', 'quijorna', 'rascafria', 'reduena', 'ribatejada', 'rivas-vaciamadrid', 'robledillo-de-la-jara', 'robledo-de-chavela', 'robregordo', 'rozas-de-madrid-las', 'rozas-de-puerto-real', 'san-agustin-del-guadalix', 'san-fernando-de-henares', 'san-lorenzo-de-el-escorial', 'san-martin-de-la-vega', 'san-martin-de-valdeiglesias', 'san-sebastian-de-los-reyes', 'santa-maria-de-la-alameda', 'santorcaz', 'santos-de-la-humosa-los', 'serna-del-monte-la', 'serranillos-del-valle', 'sevilla-la-nueva', 'somosierra', 'soto-del-real', 'talamanca-de-jarama', 'tielmes', 'titulcia', 'torrejon-de-ardoz', 'torrejon-de-la-calzada', 'torrejon-de-velasco', 'torrelaguna', 'torrelodones', 'torremocha-de-jarama', 'torres-de-la-alameda', 'tres-cantos', 'valdaracete', 'valdeavero', 'valdelaguna', 'valdemanco', 'valdemaqueda', 'valdemorillo', 'valdemoro', 'valdeolmos-alalpardo', 'valdepielagos', 'valdetorres-de-jarama', 'valdilecha', 'valverde-de-alcala', 'velilla-de-san-antonio', 'vellon-el', 'venturada', 'villaconejos', 'villa-del-prado', 'villalbilla', 'villamanrique-de-tajo', 'villamanta', 'villamantilla', 'villanueva-de-la-canada', 'villanueva-del-pardillo', 'villanueva-de-perales', 'villar-del-olmo', 'villarejo-de-salvanes', 'villaviciosa-de-odon', 'villavieja-del-lozoya', 'zarzalejo']"
   ]
  },
  {
   "cell_type": "code",
   "execution_count": 4,
   "metadata": {},
   "outputs": [
    {
     "name": "stdout",
     "output_type": "stream",
     "text": [
      "Alcobendas, Comunidad de Madrid, España\n",
      "(40.5400082, -3.6358494)\n",
      "{'place_id': 255715278, 'licence': 'Data © OpenStreetMap contributors, ODbL 1.0. http://osm.org/copyright', 'osm_type': 'relation', 'osm_id': 345878, 'lat': '40.5400082', 'lon': '-3.6358494', 'class': 'boundary', 'type': 'administrative', 'place_rank': 16, 'importance': 0.5134214038073257, 'addresstype': 'city', 'name': 'Alcobendas', 'display_name': 'Alcobendas, Comunidad de Madrid, España', 'boundingbox': ['40.5011783', '40.5888135', '-3.7009167', '-3.5494995']}\n"
     ]
    }
   ],
   "source": [
    "geolocator = Nominatim(user_agent=\"my_application\") #Primero hice un ejemplo con uno\n",
    "location = geolocator.geocode(\"alcobendas\")\n",
    "print(location.address)\n",
    "print((location.latitude, location.longitude))\n",
    "print(location.raw)"
   ]
  },
  {
   "cell_type": "code",
   "execution_count": 5,
   "metadata": {},
   "outputs": [],
   "source": [
    "def convertir_df(lista_mun):\n",
    "    lista_dic=[]\n",
    "    for municipio in tqdm(lista_mun):\n",
    "        geolocator = Nominatim(user_agent=\"my_application\")\n",
    "        location = geolocator.geocode(municipio)\n",
    "        dicc=location.raw\n",
    "        lista_dic.append(dicc)\n",
    "    df= pd.DataFrame(lista_dic)\n",
    "    return df[[\"name\",\"lat\",\"lon\"]]"
   ]
  },
  {
   "cell_type": "code",
   "execution_count": 6,
   "metadata": {},
   "outputs": [
    {
     "name": "stderr",
     "output_type": "stream",
     "text": [
      "  0%|          | 0/179 [00:00<?, ?it/s]"
     ]
    },
    {
     "name": "stderr",
     "output_type": "stream",
     "text": [
      "100%|██████████| 179/179 [01:31<00:00,  1.95it/s]\n"
     ]
    }
   ],
   "source": [
    "df_municipios= convertir_df(lista_municipios)\n",
    "df_municipios.to_csv(\"datos/coordenadas.csv\")"
   ]
  },
  {
   "cell_type": "code",
   "execution_count": 7,
   "metadata": {},
   "outputs": [
    {
     "data": {
      "text/plain": [
       "np.int64(0)"
      ]
     },
     "execution_count": 7,
     "metadata": {},
     "output_type": "execute_result"
    }
   ],
   "source": [
    "df_municipios[\"lon\"].isna().sum()  #No hay nulos\n",
    "df_municipios[\"lat\"].isna().sum()\n",
    "df_municipios[\"name\"].isna().sum()"
   ]
  },
  {
   "cell_type": "code",
   "execution_count": 8,
   "metadata": {},
   "outputs": [
    {
     "name": "stdout",
     "output_type": "stream",
     "text": [
      "<class 'pandas.core.frame.DataFrame'>\n",
      "RangeIndex: 179 entries, 0 to 178\n",
      "Data columns (total 3 columns):\n",
      " #   Column  Non-Null Count  Dtype \n",
      "---  ------  --------------  ----- \n",
      " 0   name    179 non-null    object\n",
      " 1   lat     179 non-null    object\n",
      " 2   lon     179 non-null    object\n",
      "dtypes: object(3)\n",
      "memory usage: 4.3+ KB\n"
     ]
    }
   ],
   "source": [
    "df_municipios.info()"
   ]
  },
  {
   "cell_type": "code",
   "execution_count": 9,
   "metadata": {},
   "outputs": [
    {
     "data": {
      "text/html": [
       "<div>\n",
       "<style scoped>\n",
       "    .dataframe tbody tr th:only-of-type {\n",
       "        vertical-align: middle;\n",
       "    }\n",
       "\n",
       "    .dataframe tbody tr th {\n",
       "        vertical-align: top;\n",
       "    }\n",
       "\n",
       "    .dataframe thead th {\n",
       "        text-align: right;\n",
       "    }\n",
       "</style>\n",
       "<table border=\"1\" class=\"dataframe\">\n",
       "  <thead>\n",
       "    <tr style=\"text-align: right;\">\n",
       "      <th></th>\n",
       "      <th>name</th>\n",
       "      <th>lat</th>\n",
       "      <th>lon</th>\n",
       "    </tr>\n",
       "  </thead>\n",
       "  <tbody>\n",
       "    <tr>\n",
       "      <th>count</th>\n",
       "      <td>179</td>\n",
       "      <td>179</td>\n",
       "      <td>179</td>\n",
       "    </tr>\n",
       "    <tr>\n",
       "      <th>unique</th>\n",
       "      <td>179</td>\n",
       "      <td>179</td>\n",
       "      <td>179</td>\n",
       "    </tr>\n",
       "    <tr>\n",
       "      <th>top</th>\n",
       "      <td>La Acebeda</td>\n",
       "      <td>41.0869583</td>\n",
       "      <td>-3.624399</td>\n",
       "    </tr>\n",
       "    <tr>\n",
       "      <th>freq</th>\n",
       "      <td>1</td>\n",
       "      <td>1</td>\n",
       "      <td>1</td>\n",
       "    </tr>\n",
       "  </tbody>\n",
       "</table>\n",
       "</div>"
      ],
      "text/plain": [
       "              name         lat        lon\n",
       "count          179         179        179\n",
       "unique         179         179        179\n",
       "top     La Acebeda  41.0869583  -3.624399\n",
       "freq             1           1          1"
      ]
     },
     "execution_count": 9,
     "metadata": {},
     "output_type": "execute_result"
    }
   ],
   "source": [
    "df_municipios.describe()"
   ]
  },
  {
   "cell_type": "code",
   "execution_count": 10,
   "metadata": {},
   "outputs": [
    {
     "data": {
      "text/html": [
       "<div>\n",
       "<style scoped>\n",
       "    .dataframe tbody tr th:only-of-type {\n",
       "        vertical-align: middle;\n",
       "    }\n",
       "\n",
       "    .dataframe tbody tr th {\n",
       "        vertical-align: top;\n",
       "    }\n",
       "\n",
       "    .dataframe thead th {\n",
       "        text-align: right;\n",
       "    }\n",
       "</style>\n",
       "<table border=\"1\" class=\"dataframe\">\n",
       "  <thead>\n",
       "    <tr style=\"text-align: right;\">\n",
       "      <th></th>\n",
       "      <th>name</th>\n",
       "      <th>lat</th>\n",
       "      <th>lon</th>\n",
       "    </tr>\n",
       "  </thead>\n",
       "  <tbody>\n",
       "    <tr>\n",
       "      <th>0</th>\n",
       "      <td>La Acebeda</td>\n",
       "      <td>41.0869583</td>\n",
       "      <td>-3.624399</td>\n",
       "    </tr>\n",
       "    <tr>\n",
       "      <th>1</th>\n",
       "      <td>Ajalvir</td>\n",
       "      <td>40.5342302</td>\n",
       "      <td>-3.4807818</td>\n",
       "    </tr>\n",
       "    <tr>\n",
       "      <th>2</th>\n",
       "      <td>Alameda del Valle</td>\n",
       "      <td>40.9177178</td>\n",
       "      <td>-3.8438216</td>\n",
       "    </tr>\n",
       "  </tbody>\n",
       "</table>\n",
       "</div>"
      ],
      "text/plain": [
       "                name         lat         lon\n",
       "0         La Acebeda  41.0869583   -3.624399\n",
       "1            Ajalvir  40.5342302  -3.4807818\n",
       "2  Alameda del Valle  40.9177178  -3.8438216"
      ]
     },
     "execution_count": 10,
     "metadata": {},
     "output_type": "execute_result"
    }
   ],
   "source": [
    "df_municipios.head(3)"
   ]
  },
  {
   "cell_type": "markdown",
   "metadata": {},
   "source": [
    "**Mi intención es ubicar una empresa de rodajes (especializado en series médicas)**\n",
    "- Hospitales\n",
    "- Zonas de almacénes\n",
    "- Edificios residenciaels\n",
    "- Parques\n",
    "- Cafeterías\n",
    "\n",
    "Por ello creo que tener cerca hospitales facilita la adecuación de los actores para poder ver el funcionamiento de uno real. Además, se podría llegar a acuerdos con el hospital no solo del uso de alguna instalación sino también de materiales y vestimentas (Habría que ejecutar un estudio de viabilidad por si la opción de montar sets unicamente fuera más rentable). La zona de almacenes puede ser útil no solo para el almacenaje de material de rodaje como su propio nombre indica sino también puede servir como escenario más industrial e incluso se podría optar por el alquiler o compra de algunos almacenes con el fin de ser sets de grabación.  \n",
    "\n",
    "Los edificios residenciales, parques y cafeterías sirven no solo para su posible uso y disfrute por parte de los trabajadores sino también como garantía de conseguir un entorno realista para los rodajes que se deban desarrollar en esos ámbitos."
   ]
  },
  {
   "cell_type": "code",
   "execution_count": 11,
   "metadata": {},
   "outputs": [
    {
     "data": {
      "text/plain": [
       "'fsq3B6HVgQI29yTShfC/RVhww2T2U1D+gxnqcvRV1OVHXCo='"
      ]
     },
     "execution_count": 11,
     "metadata": {},
     "output_type": "execute_result"
    }
   ],
   "source": [
    "key= os.getenv(\"token\")\n",
    "key"
   ]
  },
  {
   "cell_type": "code",
   "execution_count": 12,
   "metadata": {},
   "outputs": [
    {
     "data": {
      "text/plain": [
       "{'results': [],\n",
       " 'context': {'geo_bounds': {'circle': {'center': {'latitude': 40.4163,\n",
       "     'longitude': -3.6934},\n",
       "    'radius': 10000}}}}"
      ]
     },
     "execution_count": 12,
     "metadata": {},
     "output_type": "execute_result"
    }
   ],
   "source": [
    "#Búsqueda de hospitales 15013\n",
    "\n",
    "urlh = \"https://api.foursquare.com/v3/places/search?query=15013&radius=10000\"\n",
    "\n",
    "headers = {\n",
    "    \"accept\": \"application/json\",\n",
    "    \"Authorization\": key\n",
    "}\n",
    "\n",
    "responseh = requests.get(urlh, headers=headers)\n",
    "\n",
    "responseh.json()"
   ]
  },
  {
   "cell_type": "code",
   "execution_count": 13,
   "metadata": {},
   "outputs": [
    {
     "data": {
      "text/plain": [
       "{'results': [],\n",
       " 'context': {'geo_bounds': {'circle': {'center': {'latitude': 40.4163,\n",
       "     'longitude': -3.6934},\n",
       "    'radius': 10000}}}}"
      ]
     },
     "execution_count": 13,
     "metadata": {},
     "output_type": "execute_result"
    }
   ],
   "source": [
    "#Búsqueda de Storage Facility 11165\n",
    "\n",
    "urla = \"https://api.foursquare.com/v3/places/search?query=11165&radius=10000\"\n",
    "\n",
    "headers = {\n",
    "    \"accept\": \"application/json\",\n",
    "    \"Authorization\": key\n",
    "}\n",
    "\n",
    "responsea = requests.get(urla, headers=headers)\n",
    "\n",
    "responsea.json()"
   ]
  },
  {
   "cell_type": "code",
   "execution_count": 14,
   "metadata": {},
   "outputs": [
    {
     "data": {
      "text/plain": [
       "{'results': [],\n",
       " 'context': {'geo_bounds': {'circle': {'center': {'latitude': 40.4163,\n",
       "     'longitude': -3.6934},\n",
       "    'radius': 10000}}}}"
      ]
     },
     "execution_count": 14,
     "metadata": {},
     "output_type": "execute_result"
    }
   ],
   "source": [
    "#Búsqueda de Home (private) 12123\n",
    "\n",
    "urlc = \"https://api.foursquare.com/v3/places/search?query=12123&radius=10000\"\n",
    "\n",
    "headers = {\n",
    "    \"accept\": \"application/json\",\n",
    "    \"Authorization\": key\n",
    "}\n",
    "\n",
    "responsec = requests.get(urlc, headers=headers)\n",
    "\n",
    "responsec.json()"
   ]
  },
  {
   "cell_type": "code",
   "execution_count": 15,
   "metadata": {},
   "outputs": [],
   "source": [
    "#Búsqueda de Urban Park 16039\n",
    "\n",
    "urlp = \"https://api.foursquare.com/v3/places/search?query=16039&radius=10000\"\n",
    "\n",
    "headers = {\n",
    "    \"accept\": \"application/json\",\n",
    "    \"Authorization\": key\n",
    "}\n",
    "\n",
    "responsep = requests.get(urlp, headers=headers)\n",
    "\n",
    "dfresponsep=responsep.json()"
   ]
  },
  {
   "cell_type": "code",
   "execution_count": 16,
   "metadata": {},
   "outputs": [],
   "source": [
    "df_coordenadas= df_municipios[[\"lat\", \"lon\"]]\n",
    "dflat=df_coordenadas[\"lat\"]\n",
    "dflon=df_coordenadas[\"lon\"]\n",
    "list_lat= list(dflat)\n",
    "list_lon= list(dflon)"
   ]
  },
  {
   "cell_type": "markdown",
   "metadata": {},
   "source": [
    "Lo comento porque no lo quiero eliminar para que se vea lo que intenté"
   ]
  },
  {
   "cell_type": "code",
   "execution_count": 17,
   "metadata": {},
   "outputs": [],
   "source": [
    "df_coordenadas= df_municipios[[\"lat\", \"lon\"]]\n",
    "# def crear_df_coordenadas(listalat,listalon):\n",
    "#     lista_dic= []\n",
    "#     for lat in listalat:\n",
    "#         for lon in listalon:\n",
    "#             urlcaf = f\"https://api.foursquare.com/v3/places/search?query=13034&radius=10000&ll={lat},{lon}\"\n",
    "#             responsecaf = requests.get(urlcaf, headers=headers)\n",
    "#             responsecaf.json()\n",
    "#             lista_dic.append(responsecaf)\n",
    "#     return lista_dic\n",
    "# crear_df_coordenadas(list_lat,list_lon)\n",
    "\n"
   ]
  },
  {
   "cell_type": "code",
   "execution_count": 18,
   "metadata": {},
   "outputs": [
    {
     "data": {
      "text/plain": [
       "{'results': [],\n",
       " 'context': {'geo_bounds': {'circle': {'center': {'latitude': 41.8781,\n",
       "     'longitude': -87.6298},\n",
       "    'radius': 10000}}}}"
      ]
     },
     "execution_count": 18,
     "metadata": {},
     "output_type": "execute_result"
    }
   ],
   "source": [
    "#cafetería 13034\n",
    "urlcaf = \"https://api.foursquare.com/v3/places/search?query=13034&radius=10000&ll=41.8781,-87.6298\"\n",
    "\n",
    "headers = {\n",
    "    \"accept\": \"application/json\",\n",
    "    \"Authorization\": key\n",
    "}\n",
    "\n",
    "responsecaf = requests.get(urlcaf, headers=headers)\n",
    "responsecaf.json()"
   ]
  },
  {
   "cell_type": "markdown",
   "metadata": {},
   "source": [
    "*A partir de aquí usé chat porque no era capaz de sacar la función de búsqueda*"
   ]
  },
  {
   "cell_type": "code",
   "execution_count": 19,
   "metadata": {},
   "outputs": [],
   "source": [
    "# print(df_municipios.head())  # Muestra las primeras filas\n",
    "# print(df_municipios[[\"lat\", \"lon\"]].isna().sum())  # Verifica si hay valores nulos en las coordenadas\n",
    "\n",
    "# print(df_municipios.columns)  # Asegúrate de que \"name\" es una columna válida en df_municipios\n",
    "\n",
    "# response = requests.get(url = f\"https://api.foursquare.com/v3/places/search?query=coffe&radius=10000&ll=40.4818396,-3.3644973\", headers=headers)\n",
    "# if response.status_code == 200:\n",
    "#     data = response.json()\n",
    "#     print(data)  # Verifica si la API devuelve resultados\n",
    "# else:\n",
    "#     print(f\"Error en la solicitud: {response.status_code}\")\n",
    "\n",
    "\n",
    "# print(df_municipios.head())\n",
    "# print(df_municipios[[\"lat\", \"lon\", \"name\"]].isna().sum())\n",
    "\n",
    "\n",
    "# response = requests.get(url = f\"https://api.foursquare.com/v3/places/search?query=coffe&radius=10000&ll=40.4818396,-3.3644973\", headers=headers)\n",
    "# if response.status_code == 200:\n",
    "#     print(response.json())  # Verifica el contenido de la respuesta\n",
    "# else:\n",
    "#     print(f\"Error en la solicitud: {response.status_code}\")\n",
    "\n",
    "\n",
    "# for _, row in tqdm(municipios_df.iterrows()):\n",
    "#     lat, lon = row[\"lat\"], row[\"lon\"]\n",
    "#     print(f\"Buscando en: lat={lat}, lon={lon}\")\n",
    "#     url = f\"https://api.foursquare.com/v3/places/search?query={categoria}&radius={radio}&ll={lat},{lon}\"\n",
    "#     response = requests.get(url, headers=headers)\n",
    "#     print(response.json())  # Verifica la respuesta de la API\n"
   ]
  },
  {
   "cell_type": "code",
   "execution_count": 20,
   "metadata": {},
   "outputs": [],
   "source": [
    "# df_municipios = df_municipios[[\"lat\", \"lon\"]]  \n",
    "# # Función para buscar lugares cercanos a las coordenadas de los municipios\n",
    "# def buscar_lugares(categoria, radio, municipios_df, key):\n",
    "#     headers = {\n",
    "#         \"accept\": \"application/json\",        #El accept define que espero una respuesta en json\n",
    "#         \"Authorization\": key\n",
    "#     }\n",
    "    \n",
    "#     resultados = []         # Lista para almacenar resultados de las búsquedas (la info de cada municipio)\n",
    "\n",
    "#     for index, row in tqdm(municipios_df.iterrows()):   #  Recorre cada fila del DataFrame de municipios, obteniendo las coordenadas (lat y lon) de cada municipio. Ver ejemplo 1\n",
    "#         lat, lon = row[\"lat\"], row[\"lon\"]\n",
    "#         print(f\"Buscando en: lat={lat}, lon={lon}\")\n",
    "#         url = f\"https://api.foursquare.com/v3/places/search?query={categoria}&radius={radio}&ll={lat},{lon}\" #Esto si que sabía que tenía que ser algo parecido pero no fui capaz de plasmarlo\n",
    "\n",
    "#         response = requests.get(url, headers=headers)    #Request.get Envía una solicitud GET a la API de Foursquare, usando la URL y los encabezados definidos.\n",
    "        \n",
    "#         if response.status_code == 200:   # Comprueba si la respuesta es exitosa porque 200 es que todo ha ido bien\n",
    "#             data = response.json()               #response.json(): Convierte la respuesta JSON de la API en un objeto de Python (diccionario).\n",
    "#             for place in data.get(\"results\", []):         #results parece ser el nombre de una clave que lleva asociada una lista con hospital, cafetería etc.Además si results está vacío devuelve como valor predeterminado una lista vacía ver Ejemplo 2\n",
    "#                 # Extraer la información relevante\n",
    "#                 nombre = place.get(\"name\")\n",
    "#                 direccion = place.get(\"location\", {}).get(\"formatted_address\")\n",
    "#                 distancia = place.get(\"distance\")\n",
    "#                 categoria = place.get(\"categories\", [{}])[0].get(\"name\")\n",
    "                \n",
    "#                 resultados.append({              #Añade un diccionario a la lista resultados. Este diccionario contiene:El nombre del municipio donde se realizó la búsqueda(row[\"name\"]).El nombre del lugar encontrado, su dirección, la distancia y su categoría.\n",
    "#                     \"municipio\": row[\"name\"],\n",
    "#                     \"nombre_lugar\": nombre,\n",
    "#                     \"direccion\": direccion,\n",
    "#                     \"distancia_m\": distancia,\n",
    "#                     \"categoria\": categoria\n",
    "#                 })\n",
    "    \n",
    "#     df_resultados = pd.DataFrame(resultados) # Se convierten los resultados en un DataFrame\n",
    "#     return df_resultados\n",
    "\n",
    "\n",
    "# df_resultados = buscar_lugares(categoria=\"12123\", radio=10000, municipios_df=df_municipios, key=os.getenv(\"token\"))\n",
    "\n",
    "# # Guardar los resultados en un archivo CSV\n",
    "# # df_resultados.to_csv(\"resultados_busqueda.csv\", index=False)\n",
    "\n",
    "# # Mostrar los primeros resultados\n",
    "# print(df_resultados.head())\n"
   ]
  },
  {
   "cell_type": "code",
   "execution_count": 21,
   "metadata": {},
   "outputs": [
    {
     "data": {
      "text/plain": [
       "Index(['name', 'lat', 'lon'], dtype='object')"
      ]
     },
     "execution_count": 21,
     "metadata": {},
     "output_type": "execute_result"
    }
   ],
   "source": [
    "df_municipios.columns"
   ]
  },
  {
   "cell_type": "code",
   "execution_count": 22,
   "metadata": {},
   "outputs": [],
   "source": [
    "# def buscar_lugares(categoria, radio, municipios_df, key):\n",
    "#     headers = {\n",
    "#         \"accept\": \"application/json\",\n",
    "#         \"Authorization\": key\n",
    "#     }\n",
    "    \n",
    "#     resultados = []\n",
    "\n",
    "#     for _, row in tqdm(municipios_df.iterrows()):  # Eliminamos el 'index' ya que no se utiliza\n",
    "#         lat, lon = row[\"lat\"], row[\"lon\"]\n",
    "\n",
    "#         # Verificar si lat y lon tienen valores válidos\n",
    "#         if pd.isna(lat) or pd.isna(lon):\n",
    "#             print(f\"Coordenadas no válidas para el municipio: {row}\")\n",
    "#             continue\n",
    "\n",
    "#         # Construir la URL\n",
    "#         url = f\"https://api.foursquare.com/v3/places/search?query={categoria}&radius={radio}&ll={lat},{lon}\"\n",
    "\n",
    "#         try:\n",
    "#             response = requests.get(url, headers=headers)\n",
    "\n",
    "#             # Verificar si la respuesta es exitosa\n",
    "#             if response.status_code == 200:\n",
    "#                 data = response.json()\n",
    "\n",
    "#                 # Revisar si 'results' está en los datos\n",
    "#                 if \"results\" in data and len(data[\"results\"]) > 0:\n",
    "#                     for place in data.get(\"results\", []):\n",
    "#                         # Extraer la información relevante\n",
    "#                         nombre = place.get(\"name\", \"Desconocido\")\n",
    "#                         direccion = place.get(\"location\", {}).get(\"formatted_address\", \"Dirección no disponible\")\n",
    "#                         distancia = place.get(\"distance\", \"Desconocida\")\n",
    "#                         categoria = place.get(\"categories\", [{}])[0].get(\"name\", \"Categoría no disponible\")\n",
    "\n",
    "#                         resultados.append({\n",
    "#                             \"municipio\": row.get(\"name\", \"Municipio no disponible\"),\n",
    "#                             \"nombre_lugar\": nombre,\n",
    "#                             \"direccion\": direccion,\n",
    "#                             \"distancia_m\": distancia,\n",
    "#                             \"categoria\": categoria\n",
    "#                         })\n",
    "#                 else:\n",
    "#                     print(f\"No se encontraron resultados para {row.get('name')}.\")\n",
    "#             else:\n",
    "#                 print(f\"Error en la solicitud para {row.get('name')}: {response.status_code}\")\n",
    "\n",
    "#         except requests.exceptions.RequestException as e:\n",
    "#             print(f\"Error de conexión para {row.get('name')}: {e}\")\n",
    "\n",
    "#     # Crear un DataFrame con los resultados\n",
    "#     if resultados:\n",
    "#         df_resultados = pd.DataFrame(resultados)\n",
    "#     else:\n",
    "#         df_resultados = pd.DataFrame(columns=[\"municipio\", \"nombre_lugar\", \"direccion\", \"distancia_m\", \"categoria\"])\n",
    "    \n",
    "#     return df_resultados\n",
    "\n",
    "# df_resultados = buscar_lugares(categoria=\"15013\", radio=10000, municipios_df=df_municipios, key=os.getenv(\"token\"))\n",
    "\n",
    "# # Mostrar los primeros resultados\n",
    "# print(df_resultados.head())\n"
   ]
  },
  {
   "cell_type": "markdown",
   "metadata": {},
   "source": [
    "La información obtenida de Foursquare puede incluir muchos detalles innecesarios. Tu objetivo es quedarte únicamente con los campos relevantes para tu análisis (nombre, dirección, coordenadas, tipo de lugar etc). \n",
    "\n",
    "\n",
    "1. Explorar la estructura de los datos obtenidos para identificar los campos importantes y limpiar la información.\n",
    "\n",
    "2. Eliminar duplicados y valores nulos para garantizar la consistencia y calidad de los datos.\n",
    "\n",
    "### Paso 4: Almacenamiento de los Datos\n",
    "\n",
    "Una vez que tengas la información limpia y organizada, almacénala en un archivo CSV que puedas reutilizar en futuros análisis."
   ]
  },
  {
   "cell_type": "markdown",
   "metadata": {},
   "source": [
    "**Ejemplo 1**  \n",
    "\n",
    "Supongamos que municipios_df tiene las siguientes filas:\n",
    "\n",
    "name\tlat\tlon  \n",
    "alcobendas\t40.5372\t-3.6372  \n",
    "madrid\t40.4168\t-3.7038  \n",
    "Al ejecutar el iterrows():   \n",
    "\n",
    "En la primera iteración:  \n",
    "\n",
    "index será 0 (el índice de la fila).  \n",
    "row será una Serie que contiene:  \n",
    "row[\"name\"] = \"alcobendas\"    \n",
    "row[\"lat\"] = 40.5372  \n",
    "row[\"lon\"] = -3.6372  \n",
    "En la segunda iteración:  \n",
    "\n",
    "index será 1 (el índice de la fila).  \n",
    "row será:  \n",
    "row[\"name\"] = \"madrid\"  \n",
    "row[\"lat\"] = 40.4168  \n",
    "row[\"lon\"] = -3.7038  "
   ]
  },
  {
   "cell_type": "markdown",
   "metadata": {},
   "source": [
    "**Ejemplo 2**  \n",
    "\n",
    "data = {  \n",
    "    \"results\": [  \n",
    "        {\"name\": \"Hospital 1\", \"location\": \"Location A\"},  \n",
    "        {\"name\": \"Hospital 2\", \"location\": \"Location B\"},  \n",
    "        {\"name\": \"Hospital 3\", \"location\": \"Location C\"}  \n",
    "    ]   \n",
    "}  \n",
    "\n"
   ]
  },
  {
   "cell_type": "markdown",
   "metadata": {},
   "source": [
    "**Ejemplo 3**  \n",
    "place = {  \n",
    "    \"name\": \"Hospital 1\",  \n",
    "    \"location\": \"Location A\",  \n",
    "    \"categories\": [  \n",
    "        {\"id\": \"15013\", \"name\": \"Hospital\"}  \n",
    "    ]  \n",
    "}  \n",
    "\n",
    "place.get(\"categories\", [{}]) devolverá:    \n",
    "\n",
    "[  \n",
    "    {\"id\": \"15013\", \"name\": \"Hospital\"}  \n",
    "]  \n",
    "\n"
   ]
  },
  {
   "cell_type": "code",
   "execution_count": 24,
   "metadata": {},
   "outputs": [],
   "source": [
    "\n",
    "\n",
    "# # Filtrar el DataFrame para solo tener lat y lon\n",
    "# df_municipios = df_municipios[[\"lat\", \"lon\"]]\n",
    "\n",
    "# # Función para buscar lugares cercanos a las coordenadas de los municipios\n",
    "# def buscar_lugares(categoria, radio, municipios_df, key):\n",
    "#     headers = {\n",
    "#         \"accept\": \"application/json\",  # Esperamos una respuesta en JSON\n",
    "#         \"Authorization\": key\n",
    "#     }\n",
    "\n",
    "#     resultados = []  # Lista para almacenar resultados de las búsquedas\n",
    "\n",
    "#     for index, row in tqdm(municipios_df.iterrows()):\n",
    "#         lat, lon = row[\"lat\"], row[\"lon\"]\n",
    "#         print(f\"Buscando en: lat={lat}, lon={lon}\")\n",
    "#         url = f\"https://api.foursquare.com/v3/places/search?query={categoria}&radius={radio}&ll={lat},{lon}\"\n",
    "#         response = requests.get(url, headers=headers)\n",
    "\n",
    "#         if response.status_code == 200:\n",
    "#             data = response.json()\n",
    "#             for place in data.get(\"results\", []):\n",
    "#                 # Extraer la información relevante\n",
    "#                 nombre = place.get(\"name\")\n",
    "#                 direccion = place.get(\"location\", {}).get(\"formatted_address\")\n",
    "#                 distancia = place.get(\"distance\")\n",
    "#                 categoria = place.get(\"categories\", [{}])[0].get(\"name\")\n",
    "\n",
    "#                 resultados.append({\n",
    "#                     \"municipio\": row[\"name\"],\n",
    "#                     \"nombre_lugar\": nombre,\n",
    "#                     \"direccion\": direccion,\n",
    "#                     \"distancia_m\": distancia,\n",
    "#                     \"categoria\": categoria\n",
    "#                 })\n",
    "\n",
    "#     df_resultados = pd.DataFrame(resultados)  # Convertir los resultados en un DataFrame\n",
    "#     return df_resultados\n",
    "\n",
    "# df_resultados = buscar_lugares(categoria=\"cafeteria\", radio=9000, municipios_df=df_municipios, key=os.getenv(\"token\"))\n",
    "\n",
    "# # Mostrar los primeros resultados\n",
    "# print(df_resultados.head())\n"
   ]
  },
  {
   "cell_type": "markdown",
   "metadata": {},
   "source": [
    "**SIENTO NO HABERLO HECHO. MAÑANA NO SÉ CÓMO HARÉ EL LABORATORIO SIN ESTO**"
   ]
  }
 ],
 "metadata": {
  "kernelspec": {
   "display_name": "Python 3",
   "language": "python",
   "name": "python3"
  },
  "language_info": {
   "codemirror_mode": {
    "name": "ipython",
    "version": 3
   },
   "file_extension": ".py",
   "mimetype": "text/x-python",
   "name": "python",
   "nbconvert_exporter": "python",
   "pygments_lexer": "ipython3",
   "version": "3.11.9"
  }
 },
 "nbformat": 4,
 "nbformat_minor": 2
}
